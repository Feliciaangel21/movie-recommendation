{
 "cells": [
  {
   "cell_type": "markdown",
   "id": "72d468bd-7fa4-40a6-a425-5b6cc039be43",
   "metadata": {},
   "source": [
    "# 🎬 Movie Metadata Analysis with Pandas\n",
    "\n",
    "This notebook explores and analyzes movie metadata using two datasets: `movies.csv` and `credits.csv`. These datasets contain information about movie titles, genres, overviews, cast, and crew.\n",
    "\n",
    "By loading and examining the data, we aim to:\n",
    "- Understand the structure and contents of both datasets\n",
    "- Prepare the data for further analysis or visualization\n",
    "- Explore patterns and insights about movie production and casting\n",
    "\n",
    "This project is a great starting point for anyone interested in data wrangling, merging datasets, and exploring textual and categorical movie metadata.\n",
    "\n",
    "Let’s begin by importing the necessary libraries and loading our datasets.\n",
    "\n",
    "# Importing Required Libraries\n",
    "We begin by importing essential Python libraries for data analysis"
   ]
  },
  {
   "cell_type": "code",
   "execution_count": null,
   "id": "b6d12268-fb16-4dcd-85b1-1dfdab4f13b3",
   "metadata": {},
   "outputs": [],
   "source": [
    "import pandas as pd\n",
    "import numpy as np\n",
    "import matplotlib.pyplot as plt\n",
    "import seaborn as sns"
   ]
  },
  {
   "cell_type": "markdown",
   "id": "e6c628b9-5517-4b9b-9d52-340abef2fffd",
   "metadata": {},
   "source": [
    "## Loading the Datasets\n",
    "\n",
    "We load two CSV files:\n",
    "- `credits.csv` contains information about cast and crew\n",
    "- `movies.csv` includes metadata such as movie titles, overviews, and genres\n",
    "\n",
    "These datasets will be merged and processed for deeper analysis."
   ]
  },
  {
   "cell_type": "code",
   "execution_count": 3,
   "id": "f40d2552-4e4f-4859-b7ad-bf01677ac59e",
   "metadata": {},
   "outputs": [],
   "source": [
    "credits =  pd.read_csv(\"/Users/feliciaangel/Documents/portfolio/movie/data/tmdb_5000_credits.csv\")"
   ]
  },
  {
   "cell_type": "code",
   "execution_count": 4,
   "id": "0a54a7d0-89a4-4bac-86e9-86593a19be20",
   "metadata": {},
   "outputs": [],
   "source": [
    "movies = pd.read_csv(\"/Users/feliciaangel/Documents/portfolio/movie/data/tmdb_5000_movies.csv\")"
   ]
  },
  {
   "cell_type": "code",
   "execution_count": 5,
   "id": "aae34332-b9ec-4e6a-b645-f78f03e12373",
   "metadata": {},
   "outputs": [
    {
     "data": {
      "text/html": [
       "<div>\n",
       "<style scoped>\n",
       "    .dataframe tbody tr th:only-of-type {\n",
       "        vertical-align: middle;\n",
       "    }\n",
       "\n",
       "    .dataframe tbody tr th {\n",
       "        vertical-align: top;\n",
       "    }\n",
       "\n",
       "    .dataframe thead th {\n",
       "        text-align: right;\n",
       "    }\n",
       "</style>\n",
       "<table border=\"1\" class=\"dataframe\">\n",
       "  <thead>\n",
       "    <tr style=\"text-align: right;\">\n",
       "      <th></th>\n",
       "      <th>budget</th>\n",
       "      <th>genres</th>\n",
       "      <th>homepage</th>\n",
       "      <th>id</th>\n",
       "      <th>keywords</th>\n",
       "      <th>original_language</th>\n",
       "      <th>original_title</th>\n",
       "      <th>overview</th>\n",
       "      <th>popularity</th>\n",
       "      <th>production_companies</th>\n",
       "      <th>production_countries</th>\n",
       "      <th>release_date</th>\n",
       "      <th>revenue</th>\n",
       "      <th>runtime</th>\n",
       "      <th>spoken_languages</th>\n",
       "      <th>status</th>\n",
       "      <th>tagline</th>\n",
       "      <th>title</th>\n",
       "      <th>vote_average</th>\n",
       "      <th>vote_count</th>\n",
       "    </tr>\n",
       "  </thead>\n",
       "  <tbody>\n",
       "    <tr>\n",
       "      <th>0</th>\n",
       "      <td>237000000</td>\n",
       "      <td>[{\"id\": 28, \"name\": \"Action\"}, {\"id\": 12, \"nam...</td>\n",
       "      <td>http://www.avatarmovie.com/</td>\n",
       "      <td>19995</td>\n",
       "      <td>[{\"id\": 1463, \"name\": \"culture clash\"}, {\"id\":...</td>\n",
       "      <td>en</td>\n",
       "      <td>Avatar</td>\n",
       "      <td>In the 22nd century, a paraplegic Marine is di...</td>\n",
       "      <td>150.437577</td>\n",
       "      <td>[{\"name\": \"Ingenious Film Partners\", \"id\": 289...</td>\n",
       "      <td>[{\"iso_3166_1\": \"US\", \"name\": \"United States o...</td>\n",
       "      <td>2009-12-10</td>\n",
       "      <td>2787965087</td>\n",
       "      <td>162.0</td>\n",
       "      <td>[{\"iso_639_1\": \"en\", \"name\": \"English\"}, {\"iso...</td>\n",
       "      <td>Released</td>\n",
       "      <td>Enter the World of Pandora.</td>\n",
       "      <td>Avatar</td>\n",
       "      <td>7.2</td>\n",
       "      <td>11800</td>\n",
       "    </tr>\n",
       "    <tr>\n",
       "      <th>1</th>\n",
       "      <td>300000000</td>\n",
       "      <td>[{\"id\": 12, \"name\": \"Adventure\"}, {\"id\": 14, \"...</td>\n",
       "      <td>http://disney.go.com/disneypictures/pirates/</td>\n",
       "      <td>285</td>\n",
       "      <td>[{\"id\": 270, \"name\": \"ocean\"}, {\"id\": 726, \"na...</td>\n",
       "      <td>en</td>\n",
       "      <td>Pirates of the Caribbean: At World's End</td>\n",
       "      <td>Captain Barbossa, long believed to be dead, ha...</td>\n",
       "      <td>139.082615</td>\n",
       "      <td>[{\"name\": \"Walt Disney Pictures\", \"id\": 2}, {\"...</td>\n",
       "      <td>[{\"iso_3166_1\": \"US\", \"name\": \"United States o...</td>\n",
       "      <td>2007-05-19</td>\n",
       "      <td>961000000</td>\n",
       "      <td>169.0</td>\n",
       "      <td>[{\"iso_639_1\": \"en\", \"name\": \"English\"}]</td>\n",
       "      <td>Released</td>\n",
       "      <td>At the end of the world, the adventure begins.</td>\n",
       "      <td>Pirates of the Caribbean: At World's End</td>\n",
       "      <td>6.9</td>\n",
       "      <td>4500</td>\n",
       "    </tr>\n",
       "    <tr>\n",
       "      <th>2</th>\n",
       "      <td>245000000</td>\n",
       "      <td>[{\"id\": 28, \"name\": \"Action\"}, {\"id\": 12, \"nam...</td>\n",
       "      <td>http://www.sonypictures.com/movies/spectre/</td>\n",
       "      <td>206647</td>\n",
       "      <td>[{\"id\": 470, \"name\": \"spy\"}, {\"id\": 818, \"name...</td>\n",
       "      <td>en</td>\n",
       "      <td>Spectre</td>\n",
       "      <td>A cryptic message from Bond’s past sends him o...</td>\n",
       "      <td>107.376788</td>\n",
       "      <td>[{\"name\": \"Columbia Pictures\", \"id\": 5}, {\"nam...</td>\n",
       "      <td>[{\"iso_3166_1\": \"GB\", \"name\": \"United Kingdom\"...</td>\n",
       "      <td>2015-10-26</td>\n",
       "      <td>880674609</td>\n",
       "      <td>148.0</td>\n",
       "      <td>[{\"iso_639_1\": \"fr\", \"name\": \"Fran\\u00e7ais\"},...</td>\n",
       "      <td>Released</td>\n",
       "      <td>A Plan No One Escapes</td>\n",
       "      <td>Spectre</td>\n",
       "      <td>6.3</td>\n",
       "      <td>4466</td>\n",
       "    </tr>\n",
       "  </tbody>\n",
       "</table>\n",
       "</div>"
      ],
      "text/plain": [
       "      budget                                             genres  \\\n",
       "0  237000000  [{\"id\": 28, \"name\": \"Action\"}, {\"id\": 12, \"nam...   \n",
       "1  300000000  [{\"id\": 12, \"name\": \"Adventure\"}, {\"id\": 14, \"...   \n",
       "2  245000000  [{\"id\": 28, \"name\": \"Action\"}, {\"id\": 12, \"nam...   \n",
       "\n",
       "                                       homepage      id  \\\n",
       "0                   http://www.avatarmovie.com/   19995   \n",
       "1  http://disney.go.com/disneypictures/pirates/     285   \n",
       "2   http://www.sonypictures.com/movies/spectre/  206647   \n",
       "\n",
       "                                            keywords original_language  \\\n",
       "0  [{\"id\": 1463, \"name\": \"culture clash\"}, {\"id\":...                en   \n",
       "1  [{\"id\": 270, \"name\": \"ocean\"}, {\"id\": 726, \"na...                en   \n",
       "2  [{\"id\": 470, \"name\": \"spy\"}, {\"id\": 818, \"name...                en   \n",
       "\n",
       "                             original_title  \\\n",
       "0                                    Avatar   \n",
       "1  Pirates of the Caribbean: At World's End   \n",
       "2                                   Spectre   \n",
       "\n",
       "                                            overview  popularity  \\\n",
       "0  In the 22nd century, a paraplegic Marine is di...  150.437577   \n",
       "1  Captain Barbossa, long believed to be dead, ha...  139.082615   \n",
       "2  A cryptic message from Bond’s past sends him o...  107.376788   \n",
       "\n",
       "                                production_companies  \\\n",
       "0  [{\"name\": \"Ingenious Film Partners\", \"id\": 289...   \n",
       "1  [{\"name\": \"Walt Disney Pictures\", \"id\": 2}, {\"...   \n",
       "2  [{\"name\": \"Columbia Pictures\", \"id\": 5}, {\"nam...   \n",
       "\n",
       "                                production_countries release_date     revenue  \\\n",
       "0  [{\"iso_3166_1\": \"US\", \"name\": \"United States o...   2009-12-10  2787965087   \n",
       "1  [{\"iso_3166_1\": \"US\", \"name\": \"United States o...   2007-05-19   961000000   \n",
       "2  [{\"iso_3166_1\": \"GB\", \"name\": \"United Kingdom\"...   2015-10-26   880674609   \n",
       "\n",
       "   runtime                                   spoken_languages    status  \\\n",
       "0    162.0  [{\"iso_639_1\": \"en\", \"name\": \"English\"}, {\"iso...  Released   \n",
       "1    169.0           [{\"iso_639_1\": \"en\", \"name\": \"English\"}]  Released   \n",
       "2    148.0  [{\"iso_639_1\": \"fr\", \"name\": \"Fran\\u00e7ais\"},...  Released   \n",
       "\n",
       "                                          tagline  \\\n",
       "0                     Enter the World of Pandora.   \n",
       "1  At the end of the world, the adventure begins.   \n",
       "2                           A Plan No One Escapes   \n",
       "\n",
       "                                      title  vote_average  vote_count  \n",
       "0                                    Avatar           7.2       11800  \n",
       "1  Pirates of the Caribbean: At World's End           6.9        4500  \n",
       "2                                   Spectre           6.3        4466  "
      ]
     },
     "execution_count": 5,
     "metadata": {},
     "output_type": "execute_result"
    }
   ],
   "source": [
    "movies.head(3)"
   ]
  },
  {
   "cell_type": "code",
   "execution_count": 6,
   "id": "7d58c311-1fbd-4429-9859-4109022c7896",
   "metadata": {},
   "outputs": [
    {
     "data": {
      "text/html": [
       "<div>\n",
       "<style scoped>\n",
       "    .dataframe tbody tr th:only-of-type {\n",
       "        vertical-align: middle;\n",
       "    }\n",
       "\n",
       "    .dataframe tbody tr th {\n",
       "        vertical-align: top;\n",
       "    }\n",
       "\n",
       "    .dataframe thead th {\n",
       "        text-align: right;\n",
       "    }\n",
       "</style>\n",
       "<table border=\"1\" class=\"dataframe\">\n",
       "  <thead>\n",
       "    <tr style=\"text-align: right;\">\n",
       "      <th></th>\n",
       "      <th>movie_id</th>\n",
       "      <th>title</th>\n",
       "      <th>cast</th>\n",
       "      <th>crew</th>\n",
       "    </tr>\n",
       "  </thead>\n",
       "  <tbody>\n",
       "    <tr>\n",
       "      <th>0</th>\n",
       "      <td>19995</td>\n",
       "      <td>Avatar</td>\n",
       "      <td>[{\"cast_id\": 242, \"character\": \"Jake Sully\", \"...</td>\n",
       "      <td>[{\"credit_id\": \"52fe48009251416c750aca23\", \"de...</td>\n",
       "    </tr>\n",
       "    <tr>\n",
       "      <th>1</th>\n",
       "      <td>285</td>\n",
       "      <td>Pirates of the Caribbean: At World's End</td>\n",
       "      <td>[{\"cast_id\": 4, \"character\": \"Captain Jack Spa...</td>\n",
       "      <td>[{\"credit_id\": \"52fe4232c3a36847f800b579\", \"de...</td>\n",
       "    </tr>\n",
       "    <tr>\n",
       "      <th>2</th>\n",
       "      <td>206647</td>\n",
       "      <td>Spectre</td>\n",
       "      <td>[{\"cast_id\": 1, \"character\": \"James Bond\", \"cr...</td>\n",
       "      <td>[{\"credit_id\": \"54805967c3a36829b5002c41\", \"de...</td>\n",
       "    </tr>\n",
       "  </tbody>\n",
       "</table>\n",
       "</div>"
      ],
      "text/plain": [
       "   movie_id                                     title  \\\n",
       "0     19995                                    Avatar   \n",
       "1       285  Pirates of the Caribbean: At World's End   \n",
       "2    206647                                   Spectre   \n",
       "\n",
       "                                                cast  \\\n",
       "0  [{\"cast_id\": 242, \"character\": \"Jake Sully\", \"...   \n",
       "1  [{\"cast_id\": 4, \"character\": \"Captain Jack Spa...   \n",
       "2  [{\"cast_id\": 1, \"character\": \"James Bond\", \"cr...   \n",
       "\n",
       "                                                crew  \n",
       "0  [{\"credit_id\": \"52fe48009251416c750aca23\", \"de...  \n",
       "1  [{\"credit_id\": \"52fe4232c3a36847f800b579\", \"de...  \n",
       "2  [{\"credit_id\": \"54805967c3a36829b5002c41\", \"de...  "
      ]
     },
     "execution_count": 6,
     "metadata": {},
     "output_type": "execute_result"
    }
   ],
   "source": [
    "credits.head(3)"
   ]
  },
  {
   "cell_type": "markdown",
   "id": "7b4ea67e-10a0-4866-b3b9-07542d77c6cd",
   "metadata": {},
   "source": [
    "## Renaming Columns for Consistency\n",
    "\n",
    "To prepare for merging the datasets, we rename the `title` column in the `credits` DataFrame to `movie_title` to match the `movies` DataFrame.\n",
    "## Checking Dataset Dimensions\n",
    "\n",
    "We inspect the shape of the original `movies` dataset to understand how many records and features it contains.\n",
    "\n"
   ]
  },
  {
   "cell_type": "code",
   "execution_count": 7,
   "id": "34ad7742-1edc-45a6-a002-1533f1581180",
   "metadata": {},
   "outputs": [],
   "source": [
    "credits_updated_df = credits.rename(columns = {\"movie_id\" : \"id\"})"
   ]
  },
  {
   "cell_type": "code",
   "execution_count": 8,
   "id": "aa842787-4424-4ad4-9cf3-6bb9bdcb4c49",
   "metadata": {},
   "outputs": [
    {
     "data": {
      "text/plain": [
       "(4803, 20)"
      ]
     },
     "execution_count": 8,
     "metadata": {},
     "output_type": "execute_result"
    }
   ],
   "source": [
    "movies.shape"
   ]
  },
  {
   "cell_type": "markdown",
   "id": "fc4e5fd5-77d7-4137-aee7-729001b3d47e",
   "metadata": {},
   "source": [
    "## Merging Movies and Credits Data\n",
    "\n",
    "We perform a merge operation to combine `movies` and `credits` into a single DataFrame based on the common `movie_title` column.\n"
   ]
  },
  {
   "cell_type": "code",
   "execution_count": 9,
   "id": "99349038-86be-4480-a26b-e84da6927efc",
   "metadata": {},
   "outputs": [],
   "source": [
    "movies_df_merge = movies.merge(credits_updated_df, on = \"id\")"
   ]
  },
  {
   "cell_type": "code",
   "execution_count": 10,
   "id": "a8331822-844a-41e0-b2c4-e5e9ca8eaa5d",
   "metadata": {},
   "outputs": [
    {
     "data": {
      "text/plain": [
       "(4803, 23)"
      ]
     },
     "execution_count": 10,
     "metadata": {},
     "output_type": "execute_result"
    }
   ],
   "source": [
    "movies_df_merge.shape"
   ]
  },
  {
   "cell_type": "code",
   "execution_count": 11,
   "id": "86a59e29-489a-4a71-aa7e-4416ecfdd95b",
   "metadata": {},
   "outputs": [
    {
     "data": {
      "text/plain": [
       "Index(['budget', 'genres', 'homepage', 'id', 'keywords', 'original_language',\n",
       "       'original_title', 'overview', 'popularity', 'production_companies',\n",
       "       'production_countries', 'release_date', 'revenue', 'runtime',\n",
       "       'spoken_languages', 'status', 'tagline', 'title_x', 'vote_average',\n",
       "       'vote_count', 'title_y', 'cast', 'crew'],\n",
       "      dtype='object')"
      ]
     },
     "execution_count": 11,
     "metadata": {},
     "output_type": "execute_result"
    }
   ],
   "source": [
    "movies_df_merge.columns"
   ]
  },
  {
   "cell_type": "markdown",
   "id": "5f101eca-3458-42e6-ac8b-81d1848815df",
   "metadata": {},
   "source": [
    "## Dropping Unnecessary Columns\n",
    "\n",
    "To streamline the dataset, we remove redundant or irrelevant columns that are not needed for analysis, such as homepage, tagline, and status.\n"
   ]
  },
  {
   "cell_type": "code",
   "execution_count": 12,
   "id": "f74c0ce1-0d19-4d8f-8a9b-8b1f5eb81561",
   "metadata": {},
   "outputs": [],
   "source": [
    "movies_cleaned_df= movies_df_merge.drop(columns = ['homepage','title_x','title_y','status','production_countries'])"
   ]
  },
  {
   "cell_type": "code",
   "execution_count": 13,
   "id": "af3b2885-01e1-4345-a98f-7b7042c1bf86",
   "metadata": {},
   "outputs": [],
   "source": [
    "v = movies_cleaned_df['vote_count']\n",
    "R = movies_cleaned_df['vote_average']\n",
    "C = movies_cleaned_df['vote_average'].mean()"
   ]
  },
  {
   "cell_type": "code",
   "execution_count": 14,
   "id": "aa06d24a-f9f5-4613-9ebc-2a13443cb375",
   "metadata": {},
   "outputs": [
    {
     "data": {
      "text/plain": [
       "6.092171559442016"
      ]
     },
     "execution_count": 14,
     "metadata": {},
     "output_type": "execute_result"
    }
   ],
   "source": [
    "C"
   ]
  },
  {
   "cell_type": "markdown",
   "id": "b08703dc-b6fa-4699-b36e-d8e65455a3eb",
   "metadata": {},
   "source": [
    "## Previewing Movie Votes and Averages\n",
    "\n",
    "We display selected columns (`original_title`, `vote_count`) to review how popular and well-rated movies are.\n"
   ]
  },
  {
   "cell_type": "code",
   "execution_count": 15,
   "id": "1e13d6cb-4273-4955-819c-6d8c4a64d0e6",
   "metadata": {},
   "outputs": [
    {
     "data": {
      "text/html": [
       "<div>\n",
       "<style scoped>\n",
       "    .dataframe tbody tr th:only-of-type {\n",
       "        vertical-align: middle;\n",
       "    }\n",
       "\n",
       "    .dataframe tbody tr th {\n",
       "        vertical-align: top;\n",
       "    }\n",
       "\n",
       "    .dataframe thead th {\n",
       "        text-align: right;\n",
       "    }\n",
       "</style>\n",
       "<table border=\"1\" class=\"dataframe\">\n",
       "  <thead>\n",
       "    <tr style=\"text-align: right;\">\n",
       "      <th></th>\n",
       "      <th>original_title</th>\n",
       "      <th>vote_count</th>\n",
       "    </tr>\n",
       "  </thead>\n",
       "  <tbody>\n",
       "    <tr>\n",
       "      <th>0</th>\n",
       "      <td>Avatar</td>\n",
       "      <td>11800</td>\n",
       "    </tr>\n",
       "    <tr>\n",
       "      <th>1</th>\n",
       "      <td>Pirates of the Caribbean: At World's End</td>\n",
       "      <td>4500</td>\n",
       "    </tr>\n",
       "    <tr>\n",
       "      <th>2</th>\n",
       "      <td>Spectre</td>\n",
       "      <td>4466</td>\n",
       "    </tr>\n",
       "    <tr>\n",
       "      <th>3</th>\n",
       "      <td>The Dark Knight Rises</td>\n",
       "      <td>9106</td>\n",
       "    </tr>\n",
       "    <tr>\n",
       "      <th>4</th>\n",
       "      <td>John Carter</td>\n",
       "      <td>2124</td>\n",
       "    </tr>\n",
       "    <tr>\n",
       "      <th>...</th>\n",
       "      <td>...</td>\n",
       "      <td>...</td>\n",
       "    </tr>\n",
       "    <tr>\n",
       "      <th>4798</th>\n",
       "      <td>El Mariachi</td>\n",
       "      <td>238</td>\n",
       "    </tr>\n",
       "    <tr>\n",
       "      <th>4799</th>\n",
       "      <td>Newlyweds</td>\n",
       "      <td>5</td>\n",
       "    </tr>\n",
       "    <tr>\n",
       "      <th>4800</th>\n",
       "      <td>Signed, Sealed, Delivered</td>\n",
       "      <td>6</td>\n",
       "    </tr>\n",
       "    <tr>\n",
       "      <th>4801</th>\n",
       "      <td>Shanghai Calling</td>\n",
       "      <td>7</td>\n",
       "    </tr>\n",
       "    <tr>\n",
       "      <th>4802</th>\n",
       "      <td>My Date with Drew</td>\n",
       "      <td>16</td>\n",
       "    </tr>\n",
       "  </tbody>\n",
       "</table>\n",
       "<p>4803 rows × 2 columns</p>\n",
       "</div>"
      ],
      "text/plain": [
       "                                original_title  vote_count\n",
       "0                                       Avatar       11800\n",
       "1     Pirates of the Caribbean: At World's End        4500\n",
       "2                                      Spectre        4466\n",
       "3                        The Dark Knight Rises        9106\n",
       "4                                  John Carter        2124\n",
       "...                                        ...         ...\n",
       "4798                               El Mariachi         238\n",
       "4799                                 Newlyweds           5\n",
       "4800                 Signed, Sealed, Delivered           6\n",
       "4801                          Shanghai Calling           7\n",
       "4802                         My Date with Drew          16\n",
       "\n",
       "[4803 rows x 2 columns]"
      ]
     },
     "execution_count": 15,
     "metadata": {},
     "output_type": "execute_result"
    }
   ],
   "source": [
    "movies_cleaned_df[['original_title', 'vote_count']]"
   ]
  },
  {
   "cell_type": "markdown",
   "id": "19594fad-3a15-4a7c-8f81-9b966961d15f",
   "metadata": {},
   "source": [
    "## 📈 Visualizing Vote Counts with a Boxplot\n",
    "\n",
    "use a seaborn boxplot to visually inspect the distribution of `vote_count` values and identify any statistical outliers.\n"
   ]
  },
  {
   "cell_type": "code",
   "execution_count": 16,
   "id": "701a6943-c96e-4d7f-a654-1ae55a70db47",
   "metadata": {},
   "outputs": [
    {
     "data": {
      "text/plain": [
       "<Axes: xlabel='vote_count'>"
      ]
     },
     "execution_count": 16,
     "metadata": {},
     "output_type": "execute_result"
    },
    {
     "data": {
      "image/png": "[encoded data removed]",
      "text/plain": [
       "<Figure size 640x480 with 1 Axes>"
      ]
     },
     "metadata": {},
     "output_type": "display_data"
    }
   ],
   "source": [
    "sns.boxplot(data= movies_cleaned_df, x = 'vote_count')"
   ]
  },
  {
   "cell_type": "markdown",
   "id": "84558a9f-cf80-47fe-86a7-1b216c86708c",
   "metadata": {},
   "source": [
    "## Filtering by Minimum Vote Threshold\n",
    "\n",
    "We calculate a threshold `m` using the 90th percentile of `vote_count`. Only movies with votes above this threshold are considered for weighted ranking.\n"
   ]
  },
  {
   "cell_type": "code",
   "execution_count": 17,
   "id": "9f553449-787f-4b8a-8a92-b8bf24aeb98c",
   "metadata": {},
   "outputs": [],
   "source": [
    "m = movies_cleaned_df['vote_count'].quantile(q=0.9)"
   ]
  },
  {
   "cell_type": "code",
   "execution_count": 18,
   "id": "bbe6acba-fb50-403f-9c05-412fd588be70",
   "metadata": {},
   "outputs": [],
   "source": [
    "filtered_df = movies_cleaned_df[movies_cleaned_df['vote_count']>= m]"
   ]
  },
  {
   "cell_type": "markdown",
   "id": "be328454-6267-4149-9f1f-4e2c18b1d54a",
   "metadata": {},
   "source": [
    "## Calculating Weighted Average Ratings\n",
    "\n",
    "We compute the `weighted_avg` rating using the IMDb formula:\n",
    "$$\n",
    "\\text{weighted\\_avg} = \\frac{(v \\cdot R) + (m \\cdot C)}{v + m}\n",
    "$$\n",
    "\n",
    "where:\n",
    "- `v` = number of votes\n",
    "- `R` = average rating\n",
    "- `C` = mean rating across all movies\n",
    "- `m` = minimum vote threshold\n"
   ]
  },
  {
   "cell_type": "code",
   "execution_count": 19,
   "id": "9cc1297e-5287-4981-bea7-a1d2b71aeddb",
   "metadata": {},
   "outputs": [],
   "source": [
    "v = filtered_df['vote_count']\n",
    "R = filtered_df['vote_average']\n",
    "C = filtered_df['vote_average'].mean()"
   ]
  },
  {
   "cell_type": "code",
   "execution_count": 20,
   "id": "238ce291-1ca4-4550-a84b-1411a8a9946f",
   "metadata": {},
   "outputs": [
    {
     "name": "stderr",
     "output_type": "stream",
     "text": [
      "/var/folders/rj/vtldvwnx1yj41h0q0h31rn8w0000gn/T/ipykernel_60116/3843672943.py:1: SettingWithCopyWarning: \n",
      "A value is trying to be set on a copy of a slice from a DataFrame.\n",
      "Try using .loc[row_indexer,col_indexer] = value instead\n",
      "\n",
      "See the caveats in the documentation: https://pandas.pydata.org/pandas-docs/stable/user_guide/indexing.html#returning-a-view-versus-a-copy\n",
      "  filtered_df['weighted_avg']=((R*v) +(C*m))/(v+m)\n"
     ]
    }
   ],
   "source": [
    "filtered_df['weighted_avg']=((R*v) +(C*m))/(v+m)"
   ]
  },
  {
   "cell_type": "markdown",
   "id": "16ae354c-d7a2-46bf-a9e7-d1d5d2347ee5",
   "metadata": {},
   "source": [
    "## Displaying Top-Ranked Movies\n",
    "\n",
    "We preview the top movies sorted by their `weighted_avg` scores along with their vote average and count.\n"
   ]
  },
  {
   "cell_type": "code",
   "execution_count": 21,
   "id": "a180501a-1a0a-4b48-a415-bdc2dfa0ae83",
   "metadata": {},
   "outputs": [],
   "source": [
    "df_sorted_ranking = filtered_df.sort_values('weighted_avg', ascending = False).head(20)"
   ]
  },
  {
   "cell_type": "code",
   "execution_count": 22,
   "id": "4e3dc158-f3ba-4790-a251-38e5b5741e78",
   "metadata": {},
   "outputs": [
    {
     "data": {
      "text/html": [
       "<div>\n",
       "<style scoped>\n",
       "    .dataframe tbody tr th:only-of-type {\n",
       "        vertical-align: middle;\n",
       "    }\n",
       "\n",
       "    .dataframe tbody tr th {\n",
       "        vertical-align: top;\n",
       "    }\n",
       "\n",
       "    .dataframe thead th {\n",
       "        text-align: right;\n",
       "    }\n",
       "</style>\n",
       "<table border=\"1\" class=\"dataframe\">\n",
       "  <thead>\n",
       "    <tr style=\"text-align: right;\">\n",
       "      <th></th>\n",
       "      <th>original_title</th>\n",
       "      <th>vote_average</th>\n",
       "      <th>vote_count</th>\n",
       "      <th>weighted_avg</th>\n",
       "      <th>popularity</th>\n",
       "    </tr>\n",
       "  </thead>\n",
       "  <tbody>\n",
       "    <tr>\n",
       "      <th>1881</th>\n",
       "      <td>The Shawshank Redemption</td>\n",
       "      <td>8.5</td>\n",
       "      <td>8205</td>\n",
       "      <td>8.218658</td>\n",
       "      <td>136.747729</td>\n",
       "    </tr>\n",
       "    <tr>\n",
       "      <th>662</th>\n",
       "      <td>Fight Club</td>\n",
       "      <td>8.3</td>\n",
       "      <td>9413</td>\n",
       "      <td>8.081543</td>\n",
       "      <td>146.757391</td>\n",
       "    </tr>\n",
       "    <tr>\n",
       "      <th>3232</th>\n",
       "      <td>Pulp Fiction</td>\n",
       "      <td>8.3</td>\n",
       "      <td>8428</td>\n",
       "      <td>8.060583</td>\n",
       "      <td>121.463076</td>\n",
       "    </tr>\n",
       "    <tr>\n",
       "      <th>3337</th>\n",
       "      <td>The Godfather</td>\n",
       "      <td>8.4</td>\n",
       "      <td>5893</td>\n",
       "      <td>8.058304</td>\n",
       "      <td>143.659698</td>\n",
       "    </tr>\n",
       "    <tr>\n",
       "      <th>65</th>\n",
       "      <td>The Dark Knight</td>\n",
       "      <td>8.2</td>\n",
       "      <td>12002</td>\n",
       "      <td>8.035690</td>\n",
       "      <td>187.322927</td>\n",
       "    </tr>\n",
       "    <tr>\n",
       "      <th>809</th>\n",
       "      <td>Forrest Gump</td>\n",
       "      <td>8.2</td>\n",
       "      <td>7927</td>\n",
       "      <td>7.967126</td>\n",
       "      <td>138.133331</td>\n",
       "    </tr>\n",
       "    <tr>\n",
       "      <th>96</th>\n",
       "      <td>Inception</td>\n",
       "      <td>8.1</td>\n",
       "      <td>13752</td>\n",
       "      <td>7.965926</td>\n",
       "      <td>167.583710</td>\n",
       "    </tr>\n",
       "    <tr>\n",
       "      <th>95</th>\n",
       "      <td>Interstellar</td>\n",
       "      <td>8.1</td>\n",
       "      <td>10867</td>\n",
       "      <td>7.935482</td>\n",
       "      <td>724.247784</td>\n",
       "    </tr>\n",
       "    <tr>\n",
       "      <th>1990</th>\n",
       "      <td>The Empire Strikes Back</td>\n",
       "      <td>8.2</td>\n",
       "      <td>5879</td>\n",
       "      <td>7.905327</td>\n",
       "      <td>78.517830</td>\n",
       "    </tr>\n",
       "    <tr>\n",
       "      <th>1818</th>\n",
       "      <td>Schindler's List</td>\n",
       "      <td>8.3</td>\n",
       "      <td>4329</td>\n",
       "      <td>7.901461</td>\n",
       "      <td>104.469351</td>\n",
       "    </tr>\n",
       "    <tr>\n",
       "      <th>3865</th>\n",
       "      <td>Whiplash</td>\n",
       "      <td>8.3</td>\n",
       "      <td>4254</td>\n",
       "      <td>7.896554</td>\n",
       "      <td>192.528841</td>\n",
       "    </tr>\n",
       "    <tr>\n",
       "      <th>329</th>\n",
       "      <td>The Lord of the Rings: The Return of the King</td>\n",
       "      <td>8.1</td>\n",
       "      <td>8064</td>\n",
       "      <td>7.888913</td>\n",
       "      <td>123.630332</td>\n",
       "    </tr>\n",
       "    <tr>\n",
       "      <th>2294</th>\n",
       "      <td>千と千尋の神隠し</td>\n",
       "      <td>8.3</td>\n",
       "      <td>3840</td>\n",
       "      <td>7.867140</td>\n",
       "      <td>118.968562</td>\n",
       "    </tr>\n",
       "    <tr>\n",
       "      <th>2912</th>\n",
       "      <td>Star Wars</td>\n",
       "      <td>8.1</td>\n",
       "      <td>6624</td>\n",
       "      <td>7.852993</td>\n",
       "      <td>126.393695</td>\n",
       "    </tr>\n",
       "    <tr>\n",
       "      <th>2731</th>\n",
       "      <td>The Godfather: Part II</td>\n",
       "      <td>8.3</td>\n",
       "      <td>3338</td>\n",
       "      <td>7.825162</td>\n",
       "      <td>105.792936</td>\n",
       "    </tr>\n",
       "    <tr>\n",
       "      <th>1553</th>\n",
       "      <td>Se7en</td>\n",
       "      <td>8.1</td>\n",
       "      <td>5765</td>\n",
       "      <td>7.825087</td>\n",
       "      <td>79.579532</td>\n",
       "    </tr>\n",
       "    <tr>\n",
       "      <th>262</th>\n",
       "      <td>The Lord of the Rings: The Fellowship of the Ring</td>\n",
       "      <td>8.0</td>\n",
       "      <td>8705</td>\n",
       "      <td>7.819182</td>\n",
       "      <td>138.049577</td>\n",
       "    </tr>\n",
       "    <tr>\n",
       "      <th>690</th>\n",
       "      <td>The Green Mile</td>\n",
       "      <td>8.2</td>\n",
       "      <td>4048</td>\n",
       "      <td>7.813667</td>\n",
       "      <td>103.698022</td>\n",
       "    </tr>\n",
       "    <tr>\n",
       "      <th>330</th>\n",
       "      <td>The Lord of the Rings: The Two Towers</td>\n",
       "      <td>8.0</td>\n",
       "      <td>7487</td>\n",
       "      <td>7.795566</td>\n",
       "      <td>106.914973</td>\n",
       "    </tr>\n",
       "    <tr>\n",
       "      <th>77</th>\n",
       "      <td>Inside Out</td>\n",
       "      <td>8.0</td>\n",
       "      <td>6560</td>\n",
       "      <td>7.773001</td>\n",
       "      <td>128.655964</td>\n",
       "    </tr>\n",
       "  </tbody>\n",
       "</table>\n",
       "</div>"
      ],
      "text/plain": [
       "                                         original_title  vote_average  \\\n",
       "1881                           The Shawshank Redemption           8.5   \n",
       "662                                          Fight Club           8.3   \n",
       "3232                                       Pulp Fiction           8.3   \n",
       "3337                                      The Godfather           8.4   \n",
       "65                                      The Dark Knight           8.2   \n",
       "809                                        Forrest Gump           8.2   \n",
       "96                                            Inception           8.1   \n",
       "95                                         Interstellar           8.1   \n",
       "1990                            The Empire Strikes Back           8.2   \n",
       "1818                                   Schindler's List           8.3   \n",
       "3865                                           Whiplash           8.3   \n",
       "329       The Lord of the Rings: The Return of the King           8.1   \n",
       "2294                                           千と千尋の神隠し           8.3   \n",
       "2912                                          Star Wars           8.1   \n",
       "2731                             The Godfather: Part II           8.3   \n",
       "1553                                              Se7en           8.1   \n",
       "262   The Lord of the Rings: The Fellowship of the Ring           8.0   \n",
       "690                                      The Green Mile           8.2   \n",
       "330               The Lord of the Rings: The Two Towers           8.0   \n",
       "77                                           Inside Out           8.0   \n",
       "\n",
       "      vote_count  weighted_avg  popularity  \n",
       "1881        8205      8.218658  136.747729  \n",
       "662         9413      8.081543  146.757391  \n",
       "3232        8428      8.060583  121.463076  \n",
       "3337        5893      8.058304  143.659698  \n",
       "65         12002      8.035690  187.322927  \n",
       "809         7927      7.967126  138.133331  \n",
       "96         13752      7.965926  167.583710  \n",
       "95         10867      7.935482  724.247784  \n",
       "1990        5879      7.905327   78.517830  \n",
       "1818        4329      7.901461  104.469351  \n",
       "3865        4254      7.896554  192.528841  \n",
       "329         8064      7.888913  123.630332  \n",
       "2294        3840      7.867140  118.968562  \n",
       "2912        6624      7.852993  126.393695  \n",
       "2731        3338      7.825162  105.792936  \n",
       "1553        5765      7.825087   79.579532  \n",
       "262         8705      7.819182  138.049577  \n",
       "690         4048      7.813667  103.698022  \n",
       "330         7487      7.795566  106.914973  \n",
       "77          6560      7.773001  128.655964  "
      ]
     },
     "execution_count": 22,
     "metadata": {},
     "output_type": "execute_result"
    }
   ],
   "source": [
    "df_sorted_ranking[['original_title', 'vote_average', 'vote_count', 'weighted_avg', 'popularity']]"
   ]
  },
  {
   "cell_type": "code",
   "execution_count": 23,
   "id": "aa066183-d646-47bb-bfd8-98995bc64714",
   "metadata": {},
   "outputs": [],
   "source": [
    "import warnings\n",
    "from warnings import filterwarnings\n",
    "filterwarnings(\"ignore\")"
   ]
  },
  {
   "cell_type": "markdown",
   "id": "93543118-132e-4b94-98ac-30fe70c9443c",
   "metadata": {},
   "source": [
    "## 📊 Visualizing Weighted Ratings\n",
    "\n",
    "We use a horizontal bar plot to visualize the top movies based on their weighted average ratings."
   ]
  },
  {
   "cell_type": "code",
   "execution_count": 24,
   "id": "0ef381ae-ef91-4c57-b026-9e7d36bd8f57",
   "metadata": {},
   "outputs": [
    {
     "data": {
      "text/plain": [
       "<Axes: xlabel='weighted_avg', ylabel='original_title'>"
      ]
     },
     "execution_count": 24,
     "metadata": {},
     "output_type": "execute_result"
    },
    {
     "data": {
      "image/png": "[encoded data removed]",
      "text/plain": [
       "<Figure size 640x480 with 1 Axes>"
      ]
     },
     "metadata": {},
     "output_type": "display_data"
    }
   ],
   "source": [
    "sns.barplot(x = df_sorted_ranking['weighted_avg'], y = df_sorted_ranking['original_title'])"
   ]
  },
  {
   "cell_type": "markdown",
   "id": "07579645-6dfb-45b7-9e0d-788b9cc46074",
   "metadata": {},
   "source": [
    "## 📈 Visualizing Popular Movies\n",
    "\n",
    "We plot a horizontal bar chart of the most popular movies based on the `popularity` score from the dataset.\n"
   ]
  },
  {
   "cell_type": "code",
   "execution_count": 25,
   "id": "98681398-fa7e-4fe2-85c2-071541f5669a",
   "metadata": {},
   "outputs": [],
   "source": [
    "popularity_df = filtered_df.sort_values('popularity', ascending = False)"
   ]
  },
  {
   "cell_type": "code",
   "execution_count": 26,
   "id": "f52cfdd6-8745-461d-a13f-29cf2492c239",
   "metadata": {},
   "outputs": [
    {
     "data": {
      "text/plain": [
       "<Axes: ylabel='original_title'>"
      ]
     },
     "execution_count": 26,
     "metadata": {},
     "output_type": "execute_result"
    },
    {
     "data": {
      "image/png": "[encoded data removed]",
      "text/plain": [
       "<Figure size 640x480 with 1 Axes>"
      ]
     },
     "metadata": {},
     "output_type": "display_data"
    }
   ],
   "source": [
    "popularity_df.set_index('original_title')['popularity'][0:10].plot.barh()"
   ]
  },
  {
   "cell_type": "markdown",
   "id": "2977c948-dc31-456c-a39f-b416f28aaafa",
   "metadata": {},
   "source": [
    "## Importing Min-Max Scaler\n",
    "\n",
    "We use `MinMaxScaler` from `sklearn.preprocessing` to normalize the weighted average and popularity scores to a common scale for fair comparison.\n"
   ]
  },
  {
   "cell_type": "code",
   "execution_count": 27,
   "id": "72dd2cf2-0864-4a79-9a12-88dc7f644aeb",
   "metadata": {},
   "outputs": [],
   "source": [
    "from sklearn.preprocessing import MinMaxScaler\n",
    "scaling = MinMaxScaler()"
   ]
  },
  {
   "cell_type": "code",
   "execution_count": 28,
   "id": "8423ba8b-d7c9-48e5-b347-c16e103de1b8",
   "metadata": {},
   "outputs": [],
   "source": [
    "scaling_values = scaling.fit_transform(filtered_df[['weighted_avg', 'popularity']])"
   ]
  },
  {
   "cell_type": "code",
   "execution_count": 56,
   "id": "d395d8c9-5ee3-4731-989d-fb774b9e05c1",
   "metadata": {},
   "outputs": [],
   "source": [
    "filtered_df[['weighted_avg_scaled', 'popularity_scaled']] = scaling_values"
   ]
  },
  {
   "cell_type": "markdown",
   "id": "ed35e450-9ef4-42bc-8eda-61a7fde28219",
   "metadata": {},
   "source": [
    "## Creating a Composite Score\n",
    "\n",
    "We calculate a new column `score_mix` that combines the scaled weighted average and popularity metrics with equal weight to rank movies more holistically.\n"
   ]
  },
  {
   "cell_type": "code",
   "execution_count": 60,
   "id": "9fd74e5a-cdad-43ba-b656-42a375eab80a",
   "metadata": {},
   "outputs": [],
   "source": [
    "filtered_df['score_mix'] = filtered_df['weighted_avg_scaled'] * 0.5 + filtered_df['popularity_scaled'] * 0.5"
   ]
  },
  {
   "cell_type": "code",
   "execution_count": 76,
   "id": "731bd0de-7000-43cc-a104-b7f8ad850789",
   "metadata": {},
   "outputs": [],
   "source": [
    "rank_df = filtered_df.sort_values('score_mix', ascending = False).head(10)"
   ]
  },
  {
   "cell_type": "code",
   "execution_count": 78,
   "id": "5c1c4e85-39eb-4c6e-8354-f5bd467682c5",
   "metadata": {},
   "outputs": [],
   "source": [
    "import plotly.express as px"
   ]
  },
  {
   "cell_type": "code",
   "execution_count": 80,
   "id": "1eb4f4bf-df0d-4118-ab85-01dd528117d5",
   "metadata": {},
   "outputs": [
    {
     "data": {
      "application/vnd.plotly.v1+json": {
       "config": {
        "plotlyServerURL": "https://plot.ly"
       },
       "data": [
        {
         "alignmentgroup": "True",
         "hovertemplate": "original_title=%{x}<br>score_mix=%{y}<extra></extra>",
         "legendgroup": "",
         "marker": {
          "color": "#636efa",
          "pattern": {
           "shape": ""
          }
         },
         "name": "",
         "offsetgroup": "",
         "orientation": "v",
         "showlegend": false,
         "textposition": "auto",
         "type": "bar",
         "x": [
          "Interstellar",
          "Minions",
          "Guardians of the Galaxy",
          "Deadpool",
          "The Shawshank Redemption",
          "The Dark Knight",
          "Fight Club",
          "The Godfather",
          "Mad Max: Fury Road",
          "Whiplash"
         ],
         "xaxis": "x",
         "y": [
          0.8604475756566392,
          0.6901335565213738,
          0.6868533361407982,
          0.6286239669718444,
          0.577191815078843,
          0.5719220680801655,
          0.5572815274503706,
          0.551163483304709,
          0.5497526514971898,
          0.5488849321594331
         ],
         "yaxis": "y"
        }
       ],
       "layout": {
        "autosize": true,
        "barmode": "relative",
        "legend": {
         "tracegroupgap": 0
        },
        "margin": {
         "t": 60
        },
        "template": {
         "data": {
          "bar": [
           {
            "error_x": {
             "color": "#2a3f5f"
            },
            "error_y": {
             "color": "#2a3f5f"
            },
            "marker": {
             "line": {
              "color": "#E5ECF6",
              "width": 0.5
             },
             "pattern": {
              "fillmode": "overlay",
              "size": 10,
              "solidity": 0.2
             }
            },
            "type": "bar"
           }
          ],
          "barpolar": [
           {
            "marker": {
             "line": {
              "color": "#E5ECF6",
              "width": 0.5
             },
             "pattern": {
              "fillmode": "overlay",
              "size": 10,
              "solidity": 0.2
             }
            },
            "type": "barpolar"
           }
          ],
          "carpet": [
           {
            "aaxis": {
             "endlinecolor": "#2a3f5f",
             "gridcolor": "white",
             "linecolor": "white",
             "minorgridcolor": "white",
             "startlinecolor": "#2a3f5f"
            },
            "baxis": {
             "endlinecolor": "#2a3f5f",
             "gridcolor": "white",
             "linecolor": "white",
             "minorgridcolor": "white",
             "startlinecolor": "#2a3f5f"
            },
            "type": "carpet"
           }
          ],
          "choropleth": [
           {
            "colorbar": {
             "outlinewidth": 0,
             "ticks": ""
            },
            "type": "choropleth"
           }
          ],
          "contour": [
           {
            "colorbar": {
             "outlinewidth": 0,
             "ticks": ""
            },
            "colorscale": [
             [
              0,
              "#0d0887"
             ],
             [
              0.1111111111111111,
              "#46039f"
             ],
             [
              0.2222222222222222,
              "#7201a8"
             ],
             [
              0.3333333333333333,
              "#9c179e"
             ],
             [
              0.4444444444444444,
              "#bd3786"
             ],
             [
              0.5555555555555556,
              "#d8576b"
             ],
             [
              0.6666666666666666,
              "#ed7953"
             ],
             [
              0.7777777777777778,
              "#fb9f3a"
             ],
             [
              0.8888888888888888,
              "#fdca26"
             ],
             [
              1,
              "#f0f921"
             ]
            ],
            "type": "contour"
           }
          ],
          "contourcarpet": [
           {
            "colorbar": {
             "outlinewidth": 0,
             "ticks": ""
            },
            "type": "contourcarpet"
           }
          ],
          "heatmap": [
           {
            "colorbar": {
             "outlinewidth": 0,
             "ticks": ""
            },
            "colorscale": [
             [
              0,
              "#0d0887"
             ],
             [
              0.1111111111111111,
              "#46039f"
             ],
             [
              0.2222222222222222,
              "#7201a8"
             ],
             [
              0.3333333333333333,
              "#9c179e"
             ],
             [
              0.4444444444444444,
              "#bd3786"
             ],
             [
              0.5555555555555556,
              "#d8576b"
             ],
             [
              0.6666666666666666,
              "#ed7953"
             ],
             [
              0.7777777777777778,
              "#fb9f3a"
             ],
             [
              0.8888888888888888,
              "#fdca26"
             ],
             [
              1,
              "#f0f921"
             ]
            ],
            "type": "heatmap"
           }
          ],
          "heatmapgl": [
           {
            "colorbar": {
             "outlinewidth": 0,
             "ticks": ""
            },
            "colorscale": [
             [
              0,
              "#0d0887"
             ],
             [
              0.1111111111111111,
              "#46039f"
             ],
             [
              0.2222222222222222,
              "#7201a8"
             ],
             [
              0.3333333333333333,
              "#9c179e"
             ],
             [
              0.4444444444444444,
              "#bd3786"
             ],
             [
              0.5555555555555556,
              "#d8576b"
             ],
             [
              0.6666666666666666,
              "#ed7953"
             ],
             [
              0.7777777777777778,
              "#fb9f3a"
             ],
             [
              0.8888888888888888,
              "#fdca26"
             ],
             [
              1,
              "#f0f921"
             ]
            ],
            "type": "heatmapgl"
           }
          ],
          "histogram": [
           {
            "marker": {
             "pattern": {
              "fillmode": "overlay",
              "size": 10,
              "solidity": 0.2
             }
            },
            "type": "histogram"
           }
          ],
          "histogram2d": [
           {
            "colorbar": {
             "outlinewidth": 0,
             "ticks": ""
            },
            "colorscale": [
             [
              0,
              "#0d0887"
             ],
             [
              0.1111111111111111,
              "#46039f"
             ],
             [
              0.2222222222222222,
              "#7201a8"
             ],
             [
              0.3333333333333333,
              "#9c179e"
             ],
             [
              0.4444444444444444,
              "#bd3786"
             ],
             [
              0.5555555555555556,
              "#d8576b"
             ],
             [
              0.6666666666666666,
              "#ed7953"
             ],
             [
              0.7777777777777778,
              "#fb9f3a"
             ],
             [
              0.8888888888888888,
              "#fdca26"
             ],
             [
              1,
              "#f0f921"
             ]
            ],
            "type": "histogram2d"
           }
          ],
          "histogram2dcontour": [
           {
            "colorbar": {
             "outlinewidth": 0,
             "ticks": ""
            },
            "colorscale": [
             [
              0,
              "#0d0887"
             ],
             [
              0.1111111111111111,
              "#46039f"
             ],
             [
              0.2222222222222222,
              "#7201a8"
             ],
             [
              0.3333333333333333,
              "#9c179e"
             ],
             [
              0.4444444444444444,
              "#bd3786"
             ],
             [
              0.5555555555555556,
              "#d8576b"
             ],
             [
              0.6666666666666666,
              "#ed7953"
             ],
             [
              0.7777777777777778,
              "#fb9f3a"
             ],
             [
              0.8888888888888888,
              "#fdca26"
             ],
             [
              1,
              "#f0f921"
             ]
            ],
            "type": "histogram2dcontour"
           }
          ],
          "mesh3d": [
           {
            "colorbar": {
             "outlinewidth": 0,
             "ticks": ""
            },
            "type": "mesh3d"
           }
          ],
          "parcoords": [
           {
            "line": {
             "colorbar": {
              "outlinewidth": 0,
              "ticks": ""
             }
            },
            "type": "parcoords"
           }
          ],
          "pie": [
           {
            "automargin": true,
            "type": "pie"
           }
          ],
          "scatter": [
           {
            "fillpattern": {
             "fillmode": "overlay",
             "size": 10,
             "solidity": 0.2
            },
            "type": "scatter"
           }
          ],
          "scatter3d": [
           {
            "line": {
             "colorbar": {
              "outlinewidth": 0,
              "ticks": ""
             }
            },
            "marker": {
             "colorbar": {
              "outlinewidth": 0,
              "ticks": ""
             }
            },
            "type": "scatter3d"
           }
          ],
          "scattercarpet": [
           {
            "marker": {
             "colorbar": {
              "outlinewidth": 0,
              "ticks": ""
             }
            },
            "type": "scattercarpet"
           }
          ],
          "scattergeo": [
           {
            "marker": {
             "colorbar": {
              "outlinewidth": 0,
              "ticks": ""
             }
            },
            "type": "scattergeo"
           }
          ],
          "scattergl": [
           {
            "marker": {
             "colorbar": {
              "outlinewidth": 0,
              "ticks": ""
             }
            },
            "type": "scattergl"
           }
          ],
          "scattermapbox": [
           {
            "marker": {
             "colorbar": {
              "outlinewidth": 0,
              "ticks": ""
             }
            },
            "type": "scattermapbox"
           }
          ],
          "scatterpolar": [
           {
            "marker": {
             "colorbar": {
              "outlinewidth": 0,
              "ticks": ""
             }
            },
            "type": "scatterpolar"
           }
          ],
          "scatterpolargl": [
           {
            "marker": {
             "colorbar": {
              "outlinewidth": 0,
              "ticks": ""
             }
            },
            "type": "scatterpolargl"
           }
          ],
          "scatterternary": [
           {
            "marker": {
             "colorbar": {
              "outlinewidth": 0,
              "ticks": ""
             }
            },
            "type": "scatterternary"
           }
          ],
          "surface": [
           {
            "colorbar": {
             "outlinewidth": 0,
             "ticks": ""
            },
            "colorscale": [
             [
              0,
              "#0d0887"
             ],
             [
              0.1111111111111111,
              "#46039f"
             ],
             [
              0.2222222222222222,
              "#7201a8"
             ],
             [
              0.3333333333333333,
              "#9c179e"
             ],
             [
              0.4444444444444444,
              "#bd3786"
             ],
             [
              0.5555555555555556,
              "#d8576b"
             ],
             [
              0.6666666666666666,
              "#ed7953"
             ],
             [
              0.7777777777777778,
              "#fb9f3a"
             ],
             [
              0.8888888888888888,
              "#fdca26"
             ],
             [
              1,
              "#f0f921"
             ]
            ],
            "type": "surface"
           }
          ],
          "table": [
           {
            "cells": {
             "fill": {
              "color": "#EBF0F8"
             },
             "line": {
              "color": "white"
             }
            },
            "header": {
             "fill": {
              "color": "#C8D4E3"
             },
             "line": {
              "color": "white"
             }
            },
            "type": "table"
           }
          ]
         },
         "layout": {
          "annotationdefaults": {
           "arrowcolor": "#2a3f5f",
           "arrowhead": 0,
           "arrowwidth": 1
          },
          "autotypenumbers": "strict",
          "coloraxis": {
           "colorbar": {
            "outlinewidth": 0,
            "ticks": ""
           }
          },
          "colorscale": {
           "diverging": [
            [
             0,
             "#8e0152"
            ],
            [
             0.1,
             "#c51b7d"
            ],
            [
             0.2,
             "#de77ae"
            ],
            [
             0.3,
             "#f1b6da"
            ],
            [
             0.4,
             "#fde0ef"
            ],
            [
             0.5,
             "#f7f7f7"
            ],
            [
             0.6,
             "#e6f5d0"
            ],
            [
             0.7,
             "#b8e186"
            ],
            [
             0.8,
             "#7fbc41"
            ],
            [
             0.9,
             "#4d9221"
            ],
            [
             1,
             "#276419"
            ]
           ],
           "sequential": [
            [
             0,
             "#0d0887"
            ],
            [
             0.1111111111111111,
             "#46039f"
            ],
            [
             0.2222222222222222,
             "#7201a8"
            ],
            [
             0.3333333333333333,
             "#9c179e"
            ],
            [
             0.4444444444444444,
             "#bd3786"
            ],
            [
             0.5555555555555556,
             "#d8576b"
            ],
            [
             0.6666666666666666,
             "#ed7953"
            ],
            [
             0.7777777777777778,
             "#fb9f3a"
            ],
            [
             0.8888888888888888,
             "#fdca26"
            ],
            [
             1,
             "#f0f921"
            ]
           ],
           "sequentialminus": [
            [
             0,
             "#0d0887"
            ],
            [
             0.1111111111111111,
             "#46039f"
            ],
            [
             0.2222222222222222,
             "#7201a8"
            ],
            [
             0.3333333333333333,
             "#9c179e"
            ],
            [
             0.4444444444444444,
             "#bd3786"
            ],
            [
             0.5555555555555556,
             "#d8576b"
            ],
            [
             0.6666666666666666,
             "#ed7953"
            ],
            [
             0.7777777777777778,
             "#fb9f3a"
            ],
            [
             0.8888888888888888,
             "#fdca26"
            ],
            [
             1,
             "#f0f921"
            ]
           ]
          },
          "colorway": [
           "#636efa",
           "#EF553B",
           "#00cc96",
           "#ab63fa",
           "#FFA15A",
           "#19d3f3",
           "#FF6692",
           "#B6E880",
           "#FF97FF",
           "#FECB52"
          ],
          "font": {
           "color": "#2a3f5f"
          },
          "geo": {
           "bgcolor": "white",
           "lakecolor": "white",
           "landcolor": "#E5ECF6",
           "showlakes": true,
           "showland": true,
           "subunitcolor": "white"
          },
          "hoverlabel": {
           "align": "left"
          },
          "hovermode": "closest",
          "mapbox": {
           "style": "light"
          },
          "paper_bgcolor": "white",
          "plot_bgcolor": "#E5ECF6",
          "polar": {
           "angularaxis": {
            "gridcolor": "white",
            "linecolor": "white",
            "ticks": ""
           },
           "bgcolor": "#E5ECF6",
           "radialaxis": {
            "gridcolor": "white",
            "linecolor": "white",
            "ticks": ""
           }
          },
          "scene": {
           "xaxis": {
            "backgroundcolor": "#E5ECF6",
            "gridcolor": "white",
            "gridwidth": 2,
            "linecolor": "white",
            "showbackground": true,
            "ticks": "",
            "zerolinecolor": "white"
           },
           "yaxis": {
            "backgroundcolor": "#E5ECF6",
            "gridcolor": "white",
            "gridwidth": 2,
            "linecolor": "white",
            "showbackground": true,
            "ticks": "",
            "zerolinecolor": "white"
           },
           "zaxis": {
            "backgroundcolor": "#E5ECF6",
            "gridcolor": "white",
            "gridwidth": 2,
            "linecolor": "white",
            "showbackground": true,
            "ticks": "",
            "zerolinecolor": "white"
           }
          },
          "shapedefaults": {
           "line": {
            "color": "#2a3f5f"
           }
          },
          "ternary": {
           "aaxis": {
            "gridcolor": "white",
            "linecolor": "white",
            "ticks": ""
           },
           "baxis": {
            "gridcolor": "white",
            "linecolor": "white",
            "ticks": ""
           },
           "bgcolor": "#E5ECF6",
           "caxis": {
            "gridcolor": "white",
            "linecolor": "white",
            "ticks": ""
           }
          },
          "title": {
           "x": 0.05
          },
          "xaxis": {
           "automargin": true,
           "gridcolor": "white",
           "linecolor": "white",
           "ticks": "",
           "title": {
            "standoff": 15
           },
           "zerolinecolor": "white",
           "zerolinewidth": 2
          },
          "yaxis": {
           "automargin": true,
           "gridcolor": "white",
           "linecolor": "white",
           "ticks": "",
           "title": {
            "standoff": 15
           },
           "zerolinecolor": "white",
           "zerolinewidth": 2
          }
         }
        },
        "xaxis": {
         "anchor": "y",
         "autorange": true,
         "domain": [
          0,
          1
         ],
         "range": [
          -0.5,
          9.5
         ],
         "title": {
          "text": "original_title"
         },
         "type": "category"
        },
        "yaxis": {
         "anchor": "x",
         "autorange": true,
         "domain": [
          0,
          1
         ],
         "range": [
          0,
          0.9057342901648834
         ],
         "title": {
          "text": "score_mix"
         },
         "type": "linear"
        }
       }
      },
      "image/png": "[encoded data removed]",
      "text/html": [
       "<div>                            <div id=\"b038a32c-6b3c-4976-b0b5-57298d1860c6\" class=\"plotly-graph-div\" style=\"height:525px; width:100%;\"></div>            <script type=\"text/javascript\">                require([\"plotly\"], function(Plotly) {                    window.PLOTLYENV=window.PLOTLYENV || {};                                    if (document.getElementById(\"b038a32c-6b3c-4976-b0b5-57298d1860c6\")) {                    Plotly.newPlot(                        \"b038a32c-6b3c-4976-b0b5-57298d1860c6\",                        [{\"alignmentgroup\":\"True\",\"hovertemplate\":\"original_title=%{x}\\u003cbr\\u003escore_mix=%{y}\\u003cextra\\u003e\\u003c\\u002fextra\\u003e\",\"legendgroup\":\"\",\"marker\":{\"color\":\"#636efa\",\"pattern\":{\"shape\":\"\"}},\"name\":\"\",\"offsetgroup\":\"\",\"orientation\":\"v\",\"showlegend\":false,\"textposition\":\"auto\",\"x\":[\"Interstellar\",\"Minions\",\"Guardians of the Galaxy\",\"Deadpool\",\"The Shawshank Redemption\",\"The Dark Knight\",\"Fight Club\",\"The Godfather\",\"Mad Max: Fury Road\",\"Whiplash\"],\"xaxis\":\"x\",\"y\":[0.8604475756566392,0.6901335565213738,0.6868533361407982,0.6286239669718444,0.577191815078843,0.5719220680801655,0.5572815274503706,0.551163483304709,0.5497526514971898,0.5488849321594331],\"yaxis\":\"y\",\"type\":\"bar\"}],                        {\"template\":{\"data\":{\"histogram2dcontour\":[{\"type\":\"histogram2dcontour\",\"colorbar\":{\"outlinewidth\":0,\"ticks\":\"\"},\"colorscale\":[[0.0,\"#0d0887\"],[0.1111111111111111,\"#46039f\"],[0.2222222222222222,\"#7201a8\"],[0.3333333333333333,\"#9c179e\"],[0.4444444444444444,\"#bd3786\"],[0.5555555555555556,\"#d8576b\"],[0.6666666666666666,\"#ed7953\"],[0.7777777777777778,\"#fb9f3a\"],[0.8888888888888888,\"#fdca26\"],[1.0,\"#f0f921\"]]}],\"choropleth\":[{\"type\":\"choropleth\",\"colorbar\":{\"outlinewidth\":0,\"ticks\":\"\"}}],\"histogram2d\":[{\"type\":\"histogram2d\",\"colorbar\":{\"outlinewidth\":0,\"ticks\":\"\"},\"colorscale\":[[0.0,\"#0d0887\"],[0.1111111111111111,\"#46039f\"],[0.2222222222222222,\"#7201a8\"],[0.3333333333333333,\"#9c179e\"],[0.4444444444444444,\"#bd3786\"],[0.5555555555555556,\"#d8576b\"],[0.6666666666666666,\"#ed7953\"],[0.7777777777777778,\"#fb9f3a\"],[0.8888888888888888,\"#fdca26\"],[1.0,\"#f0f921\"]]}],\"heatmap\":[{\"type\":\"heatmap\",\"colorbar\":{\"outlinewidth\":0,\"ticks\":\"\"},\"colorscale\":[[0.0,\"#0d0887\"],[0.1111111111111111,\"#46039f\"],[0.2222222222222222,\"#7201a8\"],[0.3333333333333333,\"#9c179e\"],[0.4444444444444444,\"#bd3786\"],[0.5555555555555556,\"#d8576b\"],[0.6666666666666666,\"#ed7953\"],[0.7777777777777778,\"#fb9f3a\"],[0.8888888888888888,\"#fdca26\"],[1.0,\"#f0f921\"]]}],\"heatmapgl\":[{\"type\":\"heatmapgl\",\"colorbar\":{\"outlinewidth\":0,\"ticks\":\"\"},\"colorscale\":[[0.0,\"#0d0887\"],[0.1111111111111111,\"#46039f\"],[0.2222222222222222,\"#7201a8\"],[0.3333333333333333,\"#9c179e\"],[0.4444444444444444,\"#bd3786\"],[0.5555555555555556,\"#d8576b\"],[0.6666666666666666,\"#ed7953\"],[0.7777777777777778,\"#fb9f3a\"],[0.8888888888888888,\"#fdca26\"],[1.0,\"#f0f921\"]]}],\"contourcarpet\":[{\"type\":\"contourcarpet\",\"colorbar\":{\"outlinewidth\":0,\"ticks\":\"\"}}],\"contour\":[{\"type\":\"contour\",\"colorbar\":{\"outlinewidth\":0,\"ticks\":\"\"},\"colorscale\":[[0.0,\"#0d0887\"],[0.1111111111111111,\"#46039f\"],[0.2222222222222222,\"#7201a8\"],[0.3333333333333333,\"#9c179e\"],[0.4444444444444444,\"#bd3786\"],[0.5555555555555556,\"#d8576b\"],[0.6666666666666666,\"#ed7953\"],[0.7777777777777778,\"#fb9f3a\"],[0.8888888888888888,\"#fdca26\"],[1.0,\"#f0f921\"]]}],\"surface\":[{\"type\":\"surface\",\"colorbar\":{\"outlinewidth\":0,\"ticks\":\"\"},\"colorscale\":[[0.0,\"#0d0887\"],[0.1111111111111111,\"#46039f\"],[0.2222222222222222,\"#7201a8\"],[0.3333333333333333,\"#9c179e\"],[0.4444444444444444,\"#bd3786\"],[0.5555555555555556,\"#d8576b\"],[0.6666666666666666,\"#ed7953\"],[0.7777777777777778,\"#fb9f3a\"],[0.8888888888888888,\"#fdca26\"],[1.0,\"#f0f921\"]]}],\"mesh3d\":[{\"type\":\"mesh3d\",\"colorbar\":{\"outlinewidth\":0,\"ticks\":\"\"}}],\"scatter\":[{\"fillpattern\":{\"fillmode\":\"overlay\",\"size\":10,\"solidity\":0.2},\"type\":\"scatter\"}],\"parcoords\":[{\"type\":\"parcoords\",\"line\":{\"colorbar\":{\"outlinewidth\":0,\"ticks\":\"\"}}}],\"scatterpolargl\":[{\"type\":\"scatterpolargl\",\"marker\":{\"colorbar\":{\"outlinewidth\":0,\"ticks\":\"\"}}}],\"bar\":[{\"error_x\":{\"color\":\"#2a3f5f\"},\"error_y\":{\"color\":\"#2a3f5f\"},\"marker\":{\"line\":{\"color\":\"#E5ECF6\",\"width\":0.5},\"pattern\":{\"fillmode\":\"overlay\",\"size\":10,\"solidity\":0.2}},\"type\":\"bar\"}],\"scattergeo\":[{\"type\":\"scattergeo\",\"marker\":{\"colorbar\":{\"outlinewidth\":0,\"ticks\":\"\"}}}],\"scatterpolar\":[{\"type\":\"scatterpolar\",\"marker\":{\"colorbar\":{\"outlinewidth\":0,\"ticks\":\"\"}}}],\"histogram\":[{\"marker\":{\"pattern\":{\"fillmode\":\"overlay\",\"size\":10,\"solidity\":0.2}},\"type\":\"histogram\"}],\"scattergl\":[{\"type\":\"scattergl\",\"marker\":{\"colorbar\":{\"outlinewidth\":0,\"ticks\":\"\"}}}],\"scatter3d\":[{\"type\":\"scatter3d\",\"line\":{\"colorbar\":{\"outlinewidth\":0,\"ticks\":\"\"}},\"marker\":{\"colorbar\":{\"outlinewidth\":0,\"ticks\":\"\"}}}],\"scattermapbox\":[{\"type\":\"scattermapbox\",\"marker\":{\"colorbar\":{\"outlinewidth\":0,\"ticks\":\"\"}}}],\"scatterternary\":[{\"type\":\"scatterternary\",\"marker\":{\"colorbar\":{\"outlinewidth\":0,\"ticks\":\"\"}}}],\"scattercarpet\":[{\"type\":\"scattercarpet\",\"marker\":{\"colorbar\":{\"outlinewidth\":0,\"ticks\":\"\"}}}],\"carpet\":[{\"aaxis\":{\"endlinecolor\":\"#2a3f5f\",\"gridcolor\":\"white\",\"linecolor\":\"white\",\"minorgridcolor\":\"white\",\"startlinecolor\":\"#2a3f5f\"},\"baxis\":{\"endlinecolor\":\"#2a3f5f\",\"gridcolor\":\"white\",\"linecolor\":\"white\",\"minorgridcolor\":\"white\",\"startlinecolor\":\"#2a3f5f\"},\"type\":\"carpet\"}],\"table\":[{\"cells\":{\"fill\":{\"color\":\"#EBF0F8\"},\"line\":{\"color\":\"white\"}},\"header\":{\"fill\":{\"color\":\"#C8D4E3\"},\"line\":{\"color\":\"white\"}},\"type\":\"table\"}],\"barpolar\":[{\"marker\":{\"line\":{\"color\":\"#E5ECF6\",\"width\":0.5},\"pattern\":{\"fillmode\":\"overlay\",\"size\":10,\"solidity\":0.2}},\"type\":\"barpolar\"}],\"pie\":[{\"automargin\":true,\"type\":\"pie\"}]},\"layout\":{\"autotypenumbers\":\"strict\",\"colorway\":[\"#636efa\",\"#EF553B\",\"#00cc96\",\"#ab63fa\",\"#FFA15A\",\"#19d3f3\",\"#FF6692\",\"#B6E880\",\"#FF97FF\",\"#FECB52\"],\"font\":{\"color\":\"#2a3f5f\"},\"hovermode\":\"closest\",\"hoverlabel\":{\"align\":\"left\"},\"paper_bgcolor\":\"white\",\"plot_bgcolor\":\"#E5ECF6\",\"polar\":{\"bgcolor\":\"#E5ECF6\",\"angularaxis\":{\"gridcolor\":\"white\",\"linecolor\":\"white\",\"ticks\":\"\"},\"radialaxis\":{\"gridcolor\":\"white\",\"linecolor\":\"white\",\"ticks\":\"\"}},\"ternary\":{\"bgcolor\":\"#E5ECF6\",\"aaxis\":{\"gridcolor\":\"white\",\"linecolor\":\"white\",\"ticks\":\"\"},\"baxis\":{\"gridcolor\":\"white\",\"linecolor\":\"white\",\"ticks\":\"\"},\"caxis\":{\"gridcolor\":\"white\",\"linecolor\":\"white\",\"ticks\":\"\"}},\"coloraxis\":{\"colorbar\":{\"outlinewidth\":0,\"ticks\":\"\"}},\"colorscale\":{\"sequential\":[[0.0,\"#0d0887\"],[0.1111111111111111,\"#46039f\"],[0.2222222222222222,\"#7201a8\"],[0.3333333333333333,\"#9c179e\"],[0.4444444444444444,\"#bd3786\"],[0.5555555555555556,\"#d8576b\"],[0.6666666666666666,\"#ed7953\"],[0.7777777777777778,\"#fb9f3a\"],[0.8888888888888888,\"#fdca26\"],[1.0,\"#f0f921\"]],\"sequentialminus\":[[0.0,\"#0d0887\"],[0.1111111111111111,\"#46039f\"],[0.2222222222222222,\"#7201a8\"],[0.3333333333333333,\"#9c179e\"],[0.4444444444444444,\"#bd3786\"],[0.5555555555555556,\"#d8576b\"],[0.6666666666666666,\"#ed7953\"],[0.7777777777777778,\"#fb9f3a\"],[0.8888888888888888,\"#fdca26\"],[1.0,\"#f0f921\"]],\"diverging\":[[0,\"#8e0152\"],[0.1,\"#c51b7d\"],[0.2,\"#de77ae\"],[0.3,\"#f1b6da\"],[0.4,\"#fde0ef\"],[0.5,\"#f7f7f7\"],[0.6,\"#e6f5d0\"],[0.7,\"#b8e186\"],[0.8,\"#7fbc41\"],[0.9,\"#4d9221\"],[1,\"#276419\"]]},\"xaxis\":{\"gridcolor\":\"white\",\"linecolor\":\"white\",\"ticks\":\"\",\"title\":{\"standoff\":15},\"zerolinecolor\":\"white\",\"automargin\":true,\"zerolinewidth\":2},\"yaxis\":{\"gridcolor\":\"white\",\"linecolor\":\"white\",\"ticks\":\"\",\"title\":{\"standoff\":15},\"zerolinecolor\":\"white\",\"automargin\":true,\"zerolinewidth\":2},\"scene\":{\"xaxis\":{\"backgroundcolor\":\"#E5ECF6\",\"gridcolor\":\"white\",\"linecolor\":\"white\",\"showbackground\":true,\"ticks\":\"\",\"zerolinecolor\":\"white\",\"gridwidth\":2},\"yaxis\":{\"backgroundcolor\":\"#E5ECF6\",\"gridcolor\":\"white\",\"linecolor\":\"white\",\"showbackground\":true,\"ticks\":\"\",\"zerolinecolor\":\"white\",\"gridwidth\":2},\"zaxis\":{\"backgroundcolor\":\"#E5ECF6\",\"gridcolor\":\"white\",\"linecolor\":\"white\",\"showbackground\":true,\"ticks\":\"\",\"zerolinecolor\":\"white\",\"gridwidth\":2}},\"shapedefaults\":{\"line\":{\"color\":\"#2a3f5f\"}},\"annotationdefaults\":{\"arrowcolor\":\"#2a3f5f\",\"arrowhead\":0,\"arrowwidth\":1},\"geo\":{\"bgcolor\":\"white\",\"landcolor\":\"#E5ECF6\",\"subunitcolor\":\"white\",\"showland\":true,\"showlakes\":true,\"lakecolor\":\"white\"},\"title\":{\"x\":0.05},\"mapbox\":{\"style\":\"light\"}}},\"xaxis\":{\"anchor\":\"y\",\"domain\":[0.0,1.0],\"title\":{\"text\":\"original_title\"}},\"yaxis\":{\"anchor\":\"x\",\"domain\":[0.0,1.0],\"title\":{\"text\":\"score_mix\"}},\"legend\":{\"tracegroupgap\":0},\"margin\":{\"t\":60},\"barmode\":\"relative\"},                        {\"responsive\": true}                    ).then(function(){\n",
       "                            \n",
       "var gd = document.getElementById('b038a32c-6b3c-4976-b0b5-57298d1860c6');\n",
       "var x = new MutationObserver(function (mutations, observer) {{\n",
       "        var display = window.getComputedStyle(gd).display;\n",
       "        if (!display || display === 'none') {{\n",
       "            console.log([gd, 'removed!']);\n",
       "            Plotly.purge(gd);\n",
       "            observer.disconnect();\n",
       "        }}\n",
       "}});\n",
       "\n",
       "// Listen for the removal of the full notebook cells\n",
       "var notebookContainer = gd.closest('#notebook-container');\n",
       "if (notebookContainer) {{\n",
       "    x.observe(notebookContainer, {childList: true});\n",
       "}}\n",
       "\n",
       "// Listen for the clearing of the current output cell\n",
       "var outputEl = gd.closest('.output');\n",
       "if (outputEl) {{\n",
       "    x.observe(outputEl, {childList: true});\n",
       "}}\n",
       "\n",
       "                        })                };                });            </script>        </div>"
      ]
     },
     "metadata": {},
     "output_type": "display_data"
    }
   ],
   "source": [
    "px.bar(data_frame = rank_df, x = 'original_title', y ='score_mix')"
   ]
  },
  {
   "cell_type": "markdown",
   "id": "24691d42-da75-489f-9014-1258156aaf51",
   "metadata": {},
   "source": [
    "# Preparing Data for Text Analysis\n",
    "\n",
    "We assign `filtered_df` to `data` in preparation for natural language processing on the `overview` column.\n"
   ]
  },
  {
   "cell_type": "code",
   "execution_count": 90,
   "id": "1ac4660c-409b-4d47-a9d4-c6d7cb371c54",
   "metadata": {},
   "outputs": [],
   "source": [
    "data = filtered_df"
   ]
  },
  {
   "cell_type": "markdown",
   "id": "8a931bc8-b0cb-4b8e-bd3f-0cf51c8fec2d",
   "metadata": {},
   "source": [
    "### Checking for Missing Overviews\n",
    "\n",
    "We identify how many movies have null entries in the `overview` column, which is important before applying any NLP techniques.\n"
   ]
  },
  {
   "cell_type": "code",
   "execution_count": 92,
   "id": "21227e9f-2e64-4faa-abd9-394dae728185",
   "metadata": {},
   "outputs": [
    {
     "data": {
      "text/plain": [
       "0"
      ]
     },
     "execution_count": 92,
     "metadata": {},
     "output_type": "execute_result"
    }
   ],
   "source": [
    "data['overview'].isnull().sum()"
   ]
  },
  {
   "cell_type": "markdown",
   "id": "2f78e66a-a600-4f46-b473-f4069cfa7c62",
   "metadata": {},
   "source": [
    "## Importing TF-IDF Vectorizer\n",
    "\n",
    "We import `TfidfVectorizer` from `sklearn.feature_extraction.text` to convert movie overviews into numerical vectors based on term importance.\n"
   ]
  },
  {
   "cell_type": "code",
   "execution_count": 94,
   "id": "485f585b-fd1b-41dc-85ca-7096c232e1a9",
   "metadata": {},
   "outputs": [],
   "source": [
    "from sklearn.feature_extraction.text import TfidfVectorizer"
   ]
  },
  {
   "cell_type": "markdown",
   "id": "dcc471ac-7bed-4d00-8d27-7cac831d4a08",
   "metadata": {},
   "source": [
    "\n",
    "\n",
    "We configure `TfidfVectorizer` with parameters such as `min_df=3` and English stop words removal to convert movie overviews into TF-IDF feature vectors.\n"
   ]
  },
  {
   "cell_type": "code",
   "execution_count": 100,
   "id": "99154398-5f5a-4bbe-aeba-143682f2bcc1",
   "metadata": {},
   "outputs": [],
   "source": [
    "tfv = TfidfVectorizer(min_df = 3, \n",
    "                max_features=None, \n",
    "                ngram_range=(1,3), \n",
    "                stop_words = \"english\")"
   ]
  },
  {
   "cell_type": "markdown",
   "id": "c060f086-2c93-43d4-864f-4a550d79650d",
   "metadata": {},
   "source": [
    "\n",
    "We fit the TF-IDF vectorizer on the `overview` column and transform the text data into a sparse matrix suitable for similarity computation.\n"
   ]
  },
  {
   "cell_type": "code",
   "execution_count": 102,
   "id": "5eeca04e-2a97-4585-9f81-be0f1de19ba7",
   "metadata": {},
   "outputs": [],
   "source": [
    " tfv_matrix = tfv.fit_transform(data['overview'])"
   ]
  },
  {
   "cell_type": "markdown",
   "id": "eef891f4-af85-415c-9497-5b3654b73457",
   "metadata": {},
   "source": [
    "## Importing Sigmoid Kernel Function\n",
    "\n",
    "We import `sigmoid_kernel` from `sklearn.metrics.pairwise` to compute pairwise similarities between movie overviews using a sigmoid-based similarity measure.\n"
   ]
  },
  {
   "cell_type": "code",
   "execution_count": 104,
   "id": "1f268f0f-284a-4fa3-8fea-b772ce689d07",
   "metadata": {},
   "outputs": [],
   "source": [
    "from sklearn.metrics.pairwise import sigmoid_kernel"
   ]
  },
  {
   "cell_type": "markdown",
   "id": "e99d0731-186b-4ae6-9c88-95007da10596",
   "metadata": {},
   "source": [
    "\n",
    "We compute the pairwise similarity scores between all movie overviews using the sigmoid kernel applied to the TF-IDF matrix.\n"
   ]
  },
  {
   "cell_type": "code",
   "execution_count": 108,
   "id": "09b145a9-80f8-4a28-9044-fcf1fe7b6c7b",
   "metadata": {},
   "outputs": [],
   "source": [
    "sig = sigmoid_kernel(tfv_matrix, tfv_matrix)"
   ]
  },
  {
   "cell_type": "code",
   "execution_count": 112,
   "id": "52866eb0-d79a-4f0a-829b-8e87a95cc97b",
   "metadata": {},
   "outputs": [
    {
     "data": {
      "text/html": [
       "<div>\n",
       "<style scoped>\n",
       "    .dataframe tbody tr th:only-of-type {\n",
       "        vertical-align: middle;\n",
       "    }\n",
       "\n",
       "    .dataframe tbody tr th {\n",
       "        vertical-align: top;\n",
       "    }\n",
       "\n",
       "    .dataframe thead th {\n",
       "        text-align: right;\n",
       "    }\n",
       "</style>\n",
       "<table border=\"1\" class=\"dataframe\">\n",
       "  <thead>\n",
       "    <tr style=\"text-align: right;\">\n",
       "      <th></th>\n",
       "      <th>0</th>\n",
       "      <th>1</th>\n",
       "      <th>2</th>\n",
       "      <th>3</th>\n",
       "      <th>4</th>\n",
       "      <th>5</th>\n",
       "      <th>6</th>\n",
       "      <th>7</th>\n",
       "      <th>8</th>\n",
       "      <th>9</th>\n",
       "      <th>...</th>\n",
       "      <th>471</th>\n",
       "      <th>472</th>\n",
       "      <th>473</th>\n",
       "      <th>474</th>\n",
       "      <th>475</th>\n",
       "      <th>476</th>\n",
       "      <th>477</th>\n",
       "      <th>478</th>\n",
       "      <th>479</th>\n",
       "      <th>480</th>\n",
       "    </tr>\n",
       "  </thead>\n",
       "  <tbody>\n",
       "    <tr>\n",
       "      <th>0</th>\n",
       "      <td>0.761920</td>\n",
       "      <td>0.761594</td>\n",
       "      <td>0.761594</td>\n",
       "      <td>0.761612</td>\n",
       "      <td>0.761594</td>\n",
       "      <td>0.761609</td>\n",
       "      <td>0.761594</td>\n",
       "      <td>0.761619</td>\n",
       "      <td>0.761594</td>\n",
       "      <td>0.761594</td>\n",
       "      <td>...</td>\n",
       "      <td>0.761594</td>\n",
       "      <td>0.761594</td>\n",
       "      <td>0.761594</td>\n",
       "      <td>0.761594</td>\n",
       "      <td>0.761594</td>\n",
       "      <td>0.761594</td>\n",
       "      <td>0.761594</td>\n",
       "      <td>0.761594</td>\n",
       "      <td>0.761594</td>\n",
       "      <td>0.761594</td>\n",
       "    </tr>\n",
       "    <tr>\n",
       "      <th>1</th>\n",
       "      <td>0.761594</td>\n",
       "      <td>0.761920</td>\n",
       "      <td>0.761594</td>\n",
       "      <td>0.761594</td>\n",
       "      <td>0.761623</td>\n",
       "      <td>0.761594</td>\n",
       "      <td>0.761594</td>\n",
       "      <td>0.761609</td>\n",
       "      <td>0.761594</td>\n",
       "      <td>0.761594</td>\n",
       "      <td>...</td>\n",
       "      <td>0.761594</td>\n",
       "      <td>0.761594</td>\n",
       "      <td>0.761594</td>\n",
       "      <td>0.761594</td>\n",
       "      <td>0.761594</td>\n",
       "      <td>0.761604</td>\n",
       "      <td>0.761594</td>\n",
       "      <td>0.761594</td>\n",
       "      <td>0.761594</td>\n",
       "      <td>0.761594</td>\n",
       "    </tr>\n",
       "    <tr>\n",
       "      <th>2</th>\n",
       "      <td>0.761594</td>\n",
       "      <td>0.761594</td>\n",
       "      <td>0.761920</td>\n",
       "      <td>0.761594</td>\n",
       "      <td>0.761594</td>\n",
       "      <td>0.761594</td>\n",
       "      <td>0.761594</td>\n",
       "      <td>0.761608</td>\n",
       "      <td>0.761606</td>\n",
       "      <td>0.761594</td>\n",
       "      <td>...</td>\n",
       "      <td>0.761594</td>\n",
       "      <td>0.761594</td>\n",
       "      <td>0.761594</td>\n",
       "      <td>0.761594</td>\n",
       "      <td>0.761594</td>\n",
       "      <td>0.761594</td>\n",
       "      <td>0.761594</td>\n",
       "      <td>0.761594</td>\n",
       "      <td>0.761594</td>\n",
       "      <td>0.761594</td>\n",
       "    </tr>\n",
       "    <tr>\n",
       "      <th>3</th>\n",
       "      <td>0.761612</td>\n",
       "      <td>0.761594</td>\n",
       "      <td>0.761594</td>\n",
       "      <td>0.761920</td>\n",
       "      <td>0.761601</td>\n",
       "      <td>0.761597</td>\n",
       "      <td>0.761604</td>\n",
       "      <td>0.761606</td>\n",
       "      <td>0.761604</td>\n",
       "      <td>0.761680</td>\n",
       "      <td>...</td>\n",
       "      <td>0.761594</td>\n",
       "      <td>0.761594</td>\n",
       "      <td>0.761614</td>\n",
       "      <td>0.761603</td>\n",
       "      <td>0.761594</td>\n",
       "      <td>0.761594</td>\n",
       "      <td>0.761601</td>\n",
       "      <td>0.761594</td>\n",
       "      <td>0.761620</td>\n",
       "      <td>0.761594</td>\n",
       "    </tr>\n",
       "    <tr>\n",
       "      <th>4</th>\n",
       "      <td>0.761594</td>\n",
       "      <td>0.761623</td>\n",
       "      <td>0.761594</td>\n",
       "      <td>0.761601</td>\n",
       "      <td>0.761920</td>\n",
       "      <td>0.761594</td>\n",
       "      <td>0.761601</td>\n",
       "      <td>0.761618</td>\n",
       "      <td>0.761594</td>\n",
       "      <td>0.761606</td>\n",
       "      <td>...</td>\n",
       "      <td>0.761631</td>\n",
       "      <td>0.761594</td>\n",
       "      <td>0.761594</td>\n",
       "      <td>0.761594</td>\n",
       "      <td>0.761594</td>\n",
       "      <td>0.761610</td>\n",
       "      <td>0.761594</td>\n",
       "      <td>0.761603</td>\n",
       "      <td>0.761605</td>\n",
       "      <td>0.761594</td>\n",
       "    </tr>\n",
       "    <tr>\n",
       "      <th>...</th>\n",
       "      <td>...</td>\n",
       "      <td>...</td>\n",
       "      <td>...</td>\n",
       "      <td>...</td>\n",
       "      <td>...</td>\n",
       "      <td>...</td>\n",
       "      <td>...</td>\n",
       "      <td>...</td>\n",
       "      <td>...</td>\n",
       "      <td>...</td>\n",
       "      <td>...</td>\n",
       "      <td>...</td>\n",
       "      <td>...</td>\n",
       "      <td>...</td>\n",
       "      <td>...</td>\n",
       "      <td>...</td>\n",
       "      <td>...</td>\n",
       "      <td>...</td>\n",
       "      <td>...</td>\n",
       "      <td>...</td>\n",
       "      <td>...</td>\n",
       "    </tr>\n",
       "    <tr>\n",
       "      <th>476</th>\n",
       "      <td>0.761594</td>\n",
       "      <td>0.761604</td>\n",
       "      <td>0.761594</td>\n",
       "      <td>0.761594</td>\n",
       "      <td>0.761610</td>\n",
       "      <td>0.761594</td>\n",
       "      <td>0.761594</td>\n",
       "      <td>0.761594</td>\n",
       "      <td>0.761594</td>\n",
       "      <td>0.761594</td>\n",
       "      <td>...</td>\n",
       "      <td>0.761594</td>\n",
       "      <td>0.761594</td>\n",
       "      <td>0.761594</td>\n",
       "      <td>0.761594</td>\n",
       "      <td>0.761594</td>\n",
       "      <td>0.761920</td>\n",
       "      <td>0.761594</td>\n",
       "      <td>0.761594</td>\n",
       "      <td>0.761594</td>\n",
       "      <td>0.761594</td>\n",
       "    </tr>\n",
       "    <tr>\n",
       "      <th>477</th>\n",
       "      <td>0.761594</td>\n",
       "      <td>0.761594</td>\n",
       "      <td>0.761594</td>\n",
       "      <td>0.761601</td>\n",
       "      <td>0.761594</td>\n",
       "      <td>0.761594</td>\n",
       "      <td>0.761594</td>\n",
       "      <td>0.761594</td>\n",
       "      <td>0.761594</td>\n",
       "      <td>0.761594</td>\n",
       "      <td>...</td>\n",
       "      <td>0.761594</td>\n",
       "      <td>0.761594</td>\n",
       "      <td>0.761594</td>\n",
       "      <td>0.761594</td>\n",
       "      <td>0.761615</td>\n",
       "      <td>0.761594</td>\n",
       "      <td>0.761920</td>\n",
       "      <td>0.761594</td>\n",
       "      <td>0.761611</td>\n",
       "      <td>0.761594</td>\n",
       "    </tr>\n",
       "    <tr>\n",
       "      <th>478</th>\n",
       "      <td>0.761594</td>\n",
       "      <td>0.761594</td>\n",
       "      <td>0.761594</td>\n",
       "      <td>0.761594</td>\n",
       "      <td>0.761603</td>\n",
       "      <td>0.761607</td>\n",
       "      <td>0.761594</td>\n",
       "      <td>0.761594</td>\n",
       "      <td>0.761594</td>\n",
       "      <td>0.761602</td>\n",
       "      <td>...</td>\n",
       "      <td>0.761643</td>\n",
       "      <td>0.761594</td>\n",
       "      <td>0.761594</td>\n",
       "      <td>0.761594</td>\n",
       "      <td>0.761594</td>\n",
       "      <td>0.761594</td>\n",
       "      <td>0.761594</td>\n",
       "      <td>0.761920</td>\n",
       "      <td>0.761605</td>\n",
       "      <td>0.761613</td>\n",
       "    </tr>\n",
       "    <tr>\n",
       "      <th>479</th>\n",
       "      <td>0.761594</td>\n",
       "      <td>0.761594</td>\n",
       "      <td>0.761594</td>\n",
       "      <td>0.761620</td>\n",
       "      <td>0.761605</td>\n",
       "      <td>0.761600</td>\n",
       "      <td>0.761610</td>\n",
       "      <td>0.761610</td>\n",
       "      <td>0.761594</td>\n",
       "      <td>0.761621</td>\n",
       "      <td>...</td>\n",
       "      <td>0.761594</td>\n",
       "      <td>0.761594</td>\n",
       "      <td>0.761606</td>\n",
       "      <td>0.761594</td>\n",
       "      <td>0.761594</td>\n",
       "      <td>0.761594</td>\n",
       "      <td>0.761611</td>\n",
       "      <td>0.761605</td>\n",
       "      <td>0.761920</td>\n",
       "      <td>0.761594</td>\n",
       "    </tr>\n",
       "    <tr>\n",
       "      <th>480</th>\n",
       "      <td>0.761594</td>\n",
       "      <td>0.761594</td>\n",
       "      <td>0.761594</td>\n",
       "      <td>0.761594</td>\n",
       "      <td>0.761594</td>\n",
       "      <td>0.761594</td>\n",
       "      <td>0.761594</td>\n",
       "      <td>0.761605</td>\n",
       "      <td>0.761631</td>\n",
       "      <td>0.761594</td>\n",
       "      <td>...</td>\n",
       "      <td>0.761662</td>\n",
       "      <td>0.761594</td>\n",
       "      <td>0.761613</td>\n",
       "      <td>0.761594</td>\n",
       "      <td>0.761594</td>\n",
       "      <td>0.761594</td>\n",
       "      <td>0.761594</td>\n",
       "      <td>0.761613</td>\n",
       "      <td>0.761594</td>\n",
       "      <td>0.761920</td>\n",
       "    </tr>\n",
       "  </tbody>\n",
       "</table>\n",
       "<p>481 rows × 481 columns</p>\n",
       "</div>"
      ],
      "text/plain": [
       "          0         1         2         3         4         5         6    \\\n",
       "0    0.761920  0.761594  0.761594  0.761612  0.761594  0.761609  0.761594   \n",
       "1    0.761594  0.761920  0.761594  0.761594  0.761623  0.761594  0.761594   \n",
       "2    0.761594  0.761594  0.761920  0.761594  0.761594  0.761594  0.761594   \n",
       "3    0.761612  0.761594  0.761594  0.761920  0.761601  0.761597  0.761604   \n",
       "4    0.761594  0.761623  0.761594  0.761601  0.761920  0.761594  0.761601   \n",
       "..        ...       ...       ...       ...       ...       ...       ...   \n",
       "476  0.761594  0.761604  0.761594  0.761594  0.761610  0.761594  0.761594   \n",
       "477  0.761594  0.761594  0.761594  0.761601  0.761594  0.761594  0.761594   \n",
       "478  0.761594  0.761594  0.761594  0.761594  0.761603  0.761607  0.761594   \n",
       "479  0.761594  0.761594  0.761594  0.761620  0.761605  0.761600  0.761610   \n",
       "480  0.761594  0.761594  0.761594  0.761594  0.761594  0.761594  0.761594   \n",
       "\n",
       "          7         8         9    ...       471       472       473  \\\n",
       "0    0.761619  0.761594  0.761594  ...  0.761594  0.761594  0.761594   \n",
       "1    0.761609  0.761594  0.761594  ...  0.761594  0.761594  0.761594   \n",
       "2    0.761608  0.761606  0.761594  ...  0.761594  0.761594  0.761594   \n",
       "3    0.761606  0.761604  0.761680  ...  0.761594  0.761594  0.761614   \n",
       "4    0.761618  0.761594  0.761606  ...  0.761631  0.761594  0.761594   \n",
       "..        ...       ...       ...  ...       ...       ...       ...   \n",
       "476  0.761594  0.761594  0.761594  ...  0.761594  0.761594  0.761594   \n",
       "477  0.761594  0.761594  0.761594  ...  0.761594  0.761594  0.761594   \n",
       "478  0.761594  0.761594  0.761602  ...  0.761643  0.761594  0.761594   \n",
       "479  0.761610  0.761594  0.761621  ...  0.761594  0.761594  0.761606   \n",
       "480  0.761605  0.761631  0.761594  ...  0.761662  0.761594  0.761613   \n",
       "\n",
       "          474       475       476       477       478       479       480  \n",
       "0    0.761594  0.761594  0.761594  0.761594  0.761594  0.761594  0.761594  \n",
       "1    0.761594  0.761594  0.761604  0.761594  0.761594  0.761594  0.761594  \n",
       "2    0.761594  0.761594  0.761594  0.761594  0.761594  0.761594  0.761594  \n",
       "3    0.761603  0.761594  0.761594  0.761601  0.761594  0.761620  0.761594  \n",
       "4    0.761594  0.761594  0.761610  0.761594  0.761603  0.761605  0.761594  \n",
       "..        ...       ...       ...       ...       ...       ...       ...  \n",
       "476  0.761594  0.761594  0.761920  0.761594  0.761594  0.761594  0.761594  \n",
       "477  0.761594  0.761615  0.761594  0.761920  0.761594  0.761611  0.761594  \n",
       "478  0.761594  0.761594  0.761594  0.761594  0.761920  0.761605  0.761613  \n",
       "479  0.761594  0.761594  0.761594  0.761611  0.761605  0.761920  0.761594  \n",
       "480  0.761594  0.761594  0.761594  0.761594  0.761613  0.761594  0.761920  \n",
       "\n",
       "[481 rows x 481 columns]"
      ]
     },
     "execution_count": 112,
     "metadata": {},
     "output_type": "execute_result"
    }
   ],
   "source": [
    "pd.DataFrame(sig)"
   ]
  },
  {
   "cell_type": "markdown",
   "id": "2dbcea6b-3824-4c5e-bb6a-e2562c76e7ee",
   "metadata": {},
   "source": [
    "## Creating Index Mapping for Titles\n",
    "\n",
    "We create a `pandas.Series` that maps movie titles to their index values. This allows quick lookup when retrieving similarity scores.\n"
   ]
  },
  {
   "cell_type": "code",
   "execution_count": 116,
   "id": "81b7c2fe-2707-4037-844b-78fa3fca7a19",
   "metadata": {},
   "outputs": [],
   "source": [
    "indices = pd.Series(data = data.index, index = data['original_title'])"
   ]
  },
  {
   "cell_type": "code",
   "execution_count": 132,
   "id": "567cc3ea-4b22-4772-b0e2-f5f0527c6796",
   "metadata": {},
   "outputs": [],
   "source": [
    "sigma = sorted(list(enumerate(sig[indices['John Carter']])), key = lambda x : x[1], reverse = True)"
   ]
  },
  {
   "cell_type": "code",
   "execution_count": 136,
   "id": "463fcbc6-b959-4deb-9066-173ff0e8ad3a",
   "metadata": {},
   "outputs": [],
   "source": [
    "ind = [i[0] for i in sigma[0:10]]"
   ]
  },
  {
   "cell_type": "code",
   "execution_count": 146,
   "id": "ccc8c06a-529b-47d5-ba43-5921f1873ee9",
   "metadata": {},
   "outputs": [],
   "source": [
    "dataframe = data.reset_index()"
   ]
  },
  {
   "cell_type": "markdown",
   "id": "ced8fa4e-0e46-4f43-8183-61a16cca3e4b",
   "metadata": {},
   "source": [
    "# 🎬 Displaying Recommended Titles\n",
    "\n",
    "Finally, we use the extracted indices to show the top recommended movies based on content similarity to the selected title.\n"
   ]
  },
  {
   "cell_type": "code",
   "execution_count": 148,
   "id": "edcb0aed-91a0-41c1-8a16-4bd49425c30e",
   "metadata": {},
   "outputs": [
    {
     "data": {
      "text/plain": [
       "4                                John Carter\n",
       "76              Independence Day: Resurgence\n",
       "281                      The Bourne Identity\n",
       "447                    2001: A Space Odyssey\n",
       "195                        The Fifth Element\n",
       "42                X-Men: Days of Future Past\n",
       "125       Captain America: The First Avenger\n",
       "71       Captain America: The Winter Soldier\n",
       "14                              The Avengers\n",
       "144    The Hunger Games: Mockingjay - Part 1\n",
       "Name: original_title, dtype: object"
      ]
     },
     "execution_count": 148,
     "metadata": {},
     "output_type": "execute_result"
    }
   ],
   "source": [
    "dataframe['original_title'][ind]"
   ]
  },
  {
   "cell_type": "markdown",
   "id": "53d447ae-77ad-4999-a8cb-4ea07c188939",
   "metadata": {},
   "source": [
    "# Defining a Recommendation Function\n",
    "\n",
    "We define a reusable function `give_recommendations(movie_title, model)` that takes a movie title and similarity matrix, and returns a list of recommended movies.\n"
   ]
  },
  {
   "cell_type": "code",
   "execution_count": 154,
   "id": "bd347e07-a5e3-4d1f-8a70-0a64896ffc32",
   "metadata": {},
   "outputs": [],
   "source": [
    "def give_recommendations(movie_title, model):\n",
    "    indices = pd.Series(data = data.index, index = data['original_title'])\n",
    "    idx = indices[movie_title]\n",
    "    model_scores = list(enumerate(model[idx]))\n",
    "    model_scores_sorted = sorted(model_scores, key = lambda x : x[1], reverse = True)\n",
    "    model_scores_10 = model_scores_sorted [1:11]\n",
    "    movie_indices_10 = [i[0] for i in model_scores_10]\n",
    "    return dataframe['original_title'][movie_indices_10]"
   ]
  },
  {
   "cell_type": "code",
   "execution_count": 156,
   "id": "84f3ab2d-1516-40ff-8335-b341a212a9e0",
   "metadata": {},
   "outputs": [
    {
     "data": {
      "text/plain": [
       "32                       Transformers: Age of Extinction\n",
       "115                                      Men in Black II\n",
       "448                           E.T. the Extra-Terrestrial\n",
       "268                                        Despicable Me\n",
       "27                                            Iron Man 3\n",
       "113                                         Ghostbusters\n",
       "41                                           World War Z\n",
       "244                                     Independence Day\n",
       "60                                              Iron Man\n",
       "143    Pirates of the Caribbean: The Curse of the Bla...\n",
       "Name: original_title, dtype: object"
      ]
     },
     "execution_count": 156,
     "metadata": {},
     "output_type": "execute_result"
    }
   ],
   "source": [
    "give_recommendations('Avatar', sig)"
   ]
  },
  {
   "cell_type": "markdown",
   "id": "d4fec1ee-2a91-4153-97af-7daf95ad9861",
   "metadata": {},
   "source": [
    "# Exporting Data and Models\n",
    "\n",
    "We save the cleaned dataset and export relevant files for future use or deployment. This includes storing the TF-IDF matrix or similarity model using `joblib` or CSV.\n"
   ]
  },
  {
   "cell_type": "code",
   "execution_count": 160,
   "id": "c351d4ac-ddd6-4813-a97f-c9f6ba66c2ec",
   "metadata": {},
   "outputs": [],
   "source": [
    "import joblib"
   ]
  },
  {
   "cell_type": "code",
   "execution_count": 162,
   "id": "ecb68a9c-6297-4352-89b2-120feb072168",
   "metadata": {},
   "outputs": [
    {
     "data": {
      "text/plain": [
       "['/Users/feliciaangel/Documents/portfolio/movie/dumped_obj/sigmoid_kernel.pkl']"
      ]
     },
     "execution_count": 162,
     "metadata": {},
     "output_type": "execute_result"
    }
   ],
   "source": [
    "data.to_csv(\"/Users/feliciaangel/Documents/portfolio/movie/dumped_obj/movie_data_for_app.csv\", index = False)\n",
    "\n",
    "dataframe.to_csv(\"/Users/feliciaangel/Documents/portfolio/movie/dumped_obj/movie_dataframe_for_app.csv\", index = False)\n",
    "\n",
    "joblib.dump(tfv,\"/Users/feliciaangel/Documents/portfolio/movie/dumped_obj/tfidf_vectorizer.pkl\" )\n",
    "\n",
    "joblib.dump(sig,\"/Users/feliciaangel/Documents/portfolio/movie/dumped_obj/sigmoid_kernel.pkl\" )"
   ]
  },
  {
   "cell_type": "code",
   "execution_count": null,
   "id": "94505171-6b28-4c18-a348-44430de9a4fb",
   "metadata": {},
   "outputs": [],
   "source": []
  }
 ],
 "metadata": {
  "kernelspec": {
   "display_name": "Python [conda env:base] *",
   "language": "python",
   "name": "conda-base-py"
  },
  "language_info": {
   "codemirror_mode": {
    "name": "ipython",
    "version": 3
   },
   "file_extension": ".py",
   "mimetype": "text/x-python",
   "name": "python",
   "nbconvert_exporter": "python",
   "pygments_lexer": "ipython3",
   "version": "3.12.7"
  }
 },
 "nbformat": 4,
 "nbformat_minor": 5
}
